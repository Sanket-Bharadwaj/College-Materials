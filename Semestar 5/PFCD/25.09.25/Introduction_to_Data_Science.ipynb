{
 "cells": [
  {
   "cell_type": "markdown",
   "id": "c194e017-6890-408d-b1d3-b0e690dd8e48",
   "metadata": {},
   "source": [
    "# Mean, Median, Mode"
   ]
  },
  {
   "cell_type": "markdown",
   "id": "94be6b71-1567-4da9-8119-ebab3cf1675e",
   "metadata": {},
   "source": [
    "- mean: the average value in a set of values \n",
    "- median: the middle value whe all values are in asorted order \n",
    "- mode: most frequently occuring value "
   ]
  },
  {
   "cell_type": "code",
   "execution_count": 11,
   "id": "8faddcc9-fb9e-4e87-99c2-e649f3e8f368",
   "metadata": {},
   "outputs": [
    {
     "name": "stdout",
     "output_type": "stream",
     "text": [
      "Grades:  [10, 20, 30, 0, 50, 60, 70, 80, 90, 100]\n",
      "Mean: 51\n",
      "Median: 55.0\n",
      "Mode: 10\n"
     ]
    }
   ],
   "source": [
    "import statistics as st\n",
    "grade=[10,20,30,0,50,60,70,80,90,100]\n",
    "print(\"Grades: \",grade)\n",
    "print(\"Mean:\",st.mean(grade))\n",
    "print(\"Median:\",st.median(grade))\n",
    "print(\"Mode:\",st.mode(grade))"
   ]
  },
  {
   "cell_type": "markdown",
   "id": "d3d12739-702c-4ca8-9ac1-3d8338ba2576",
   "metadata": {},
   "source": [
    "## sort ( ) : is a method of list objects and search the list in place that means it directly modify the original list and doesn't return a new list. It returns none\n"
   ]
  },
  {
   "cell_type": "markdown",
   "id": "6b64f444-03a3-4932-8f6c-900ae13a814d",
   "metadata": {},
   "source": [
    "## sorted ( ) : This is the builtin function that take any iterable (lsit, tuple, string or set) as input and return a new sorted list.Original iterable reamains unchanged"
   ]
  },
  {
   "cell_type": "code",
   "execution_count": 14,
   "id": "c3ab3a77-1512-4ac9-8a6c-cce6dd09d381",
   "metadata": {},
   "outputs": [
    {
     "name": "stdout",
     "output_type": "stream",
     "text": [
      "[-22, 2, 12, 12, 34, 43, 65]\n"
     ]
    }
   ],
   "source": [
    "mo_list=[2,34,12,43,65,12,-22]\n",
    "sorted_list=sorted(mo_list)\n",
    "print(sorted_list)"
   ]
  },
  {
   "cell_type": "code",
   "execution_count": null,
   "id": "995a64d9-7ce9-42d3-956b-e3293148cb70",
   "metadata": {},
   "outputs": [],
   "source": [
    "total = 0\n",
    "grade_counter = 0\n",
    "grade = input(\"Enter grade, (-1) to exit:\")\n",
    "while grade != -1:\n",
    "    total += grade\n",
    "    grade_counter +=1\n",
    "    grade = int (input(\"Enter grade, (-1) to exit:\"))"
   ]
  },
  {
   "cell_type": "code",
   "execution_count": null,
   "id": "78ac4578-3d0c-4f1b-8582-aaafbc146c1b",
   "metadata": {},
   "outputs": [],
   "source": []
  }
 ],
 "metadata": {
  "kernelspec": {
   "display_name": "Python 3 (ipykernel)",
   "language": "python",
   "name": "python3"
  },
  "language_info": {
   "codemirror_mode": {
    "name": "ipython",
    "version": 3
   },
   "file_extension": ".py",
   "mimetype": "text/x-python",
   "name": "python",
   "nbconvert_exporter": "python",
   "pygments_lexer": "ipython3",
   "version": "3.9.17"
  }
 },
 "nbformat": 4,
 "nbformat_minor": 5
}
