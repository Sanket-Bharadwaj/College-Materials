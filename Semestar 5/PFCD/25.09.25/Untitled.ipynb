{
 "cells": [
  {
   "cell_type": "code",
   "execution_count": 1,
   "id": "0a542539-d417-4beb-965b-a791ddfef122",
   "metadata": {},
   "outputs": [
    {
     "data": {
      "text/plain": [
       "0.6000000000000001"
      ]
     },
     "execution_count": 1,
     "metadata": {},
     "output_type": "execute_result"
    }
   ],
   "source": [
    "0.2+0.4"
   ]
  },
  {
   "cell_type": "code",
   "execution_count": 2,
   "id": "84b4e320-8132-446a-bf44-e41dd25ee8e0",
   "metadata": {},
   "outputs": [
    {
     "data": {
      "text/plain": [
       "0.4"
      ]
     },
     "execution_count": 2,
     "metadata": {},
     "output_type": "execute_result"
    }
   ],
   "source": [
    "0.1+0.3"
   ]
  },
  {
   "cell_type": "code",
   "execution_count": 3,
   "id": "6aa0a722-d7bd-49bc-852a-ecaac362ab74",
   "metadata": {},
   "outputs": [
    {
     "data": {
      "text/plain": [
       "0.30000000000000004"
      ]
     },
     "execution_count": 3,
     "metadata": {},
     "output_type": "execute_result"
    }
   ],
   "source": [
    "0.1+0.2"
   ]
  },
  {
   "cell_type": "code",
   "execution_count": 5,
   "id": "96df3ed9-97e1-4906-b26b-0260c83adb0a",
   "metadata": {},
   "outputs": [],
   "source": [
    "from decimal import Decimal"
   ]
  },
  {
   "cell_type": "code",
   "execution_count": 8,
   "id": "de301bd9-9067-415d-8489-7c8d19e49f9d",
   "metadata": {},
   "outputs": [
    {
     "name": "stdout",
     "output_type": "stream",
     "text": [
      "0.3\n"
     ]
    }
   ],
   "source": [
    "print(Decimal('0.1')+Decimal('0.2'))"
   ]
  },
  {
   "cell_type": "code",
   "execution_count": 17,
   "id": "7d33025d-fd9c-409c-80f9-24647eeab08e",
   "metadata": {},
   "outputs": [
    {
     "name": "stdout",
     "output_type": "stream",
     "text": [
      "for 01 years\t:1050.00\n",
      "for 02 years\t:1102.50\n",
      "for 03 years\t:1157.63\n",
      "for 04 years\t:1215.51\n",
      "for 05 years\t:1276.28\n",
      "for 06 years\t:1340.10\n",
      "for 07 years\t:1407.10\n",
      "for 08 years\t:1477.46\n",
      "for 09 years\t:1551.33\n",
      "for 10 years\t:1628.89\n"
     ]
    }
   ],
   "source": [
    "p=1000\n",
    "r=0.05\n",
    "for i in range(1,11):\n",
    "    a= p*(1+r)**i\n",
    "    print(f\"for {i:02d} years\\t:{a:.2f}\")"
   ]
  },
  {
   "cell_type": "markdown",
   "id": "673d79d0-81cc-47f8-862a-35b798d0e4e5",
   "metadata": {},
   "source": [
    "## "
   ]
  },
  {
   "cell_type": "code",
   "execution_count": 31,
   "id": "104ca446-36bb-4635-b016-85c397e0ee41",
   "metadata": {},
   "outputs": [
    {
     "name": "stdin",
     "output_type": "stream",
     "text": [
      "Enter the result: a1\n",
      "Enter the result: a2\n",
      "Enter the result: a2\n",
      "Enter the result: a2\n",
      "Enter the result: a2\n",
      "Enter the result: a2\n",
      "Enter the result: a2\n",
      "Enter the result: 1a1\n",
      "Enter the result: a1\n",
      "Enter the result: a1\n"
     ]
    },
    {
     "name": "stdout",
     "output_type": "stream",
     "text": [
      "Student Passed=3\n",
      "Student Failed=7\n"
     ]
    }
   ],
   "source": [
    "passed = 0\n",
    "failed = 0\n",
    "for student_count in range(10):\n",
    "    result = input(\"Enter the result:\")\n",
    "    if result == 'a1':\n",
    "        passed+=1\n",
    "    else:\n",
    "        failed +=1\n",
    "print(f\"Student Passed={passed}\")\n",
    "print(f\"Student Failed={failed}\")\n",
    "\n",
    "if passed > 8:\n",
    "    print(\"Bonus to instructor\")\n"
   ]
  },
  {
   "cell_type": "code",
   "execution_count": null,
   "id": "5b397ebe-71fa-4bb3-aa8c-4b9fab8b3dab",
   "metadata": {},
   "outputs": [],
   "source": []
  }
 ],
 "metadata": {
  "kernelspec": {
   "display_name": "Python 3 (ipykernel)",
   "language": "python",
   "name": "python3"
  },
  "language_info": {
   "codemirror_mode": {
    "name": "ipython",
    "version": 3
   },
   "file_extension": ".py",
   "mimetype": "text/x-python",
   "name": "python",
   "nbconvert_exporter": "python",
   "pygments_lexer": "ipython3",
   "version": "3.9.17"
  }
 },
 "nbformat": 4,
 "nbformat_minor": 5
}
