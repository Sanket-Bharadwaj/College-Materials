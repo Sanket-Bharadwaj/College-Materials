{
  "cells": [
    {
      "cell_type": "markdown",
      "id": "ee00c0cd-1a0a-4807-971d-34520f6bb747",
      "metadata": {
        "id": "ee00c0cd-1a0a-4807-971d-34520f6bb747"
      },
      "source": [
        "# 1. Write a program such that Python will ask you if it is raining or not. If your answer is ”yes”, Python will say ”Carry an umbrella”. If you type anything else, Python will say ”Bye”."
      ]
    },
    {
      "cell_type": "code",
      "execution_count": null,
      "id": "bab941da-9c51-4fdd-a44e-24f30f718b78",
      "metadata": {
        "colab": {
          "base_uri": "https://localhost:8080/"
        },
        "id": "bab941da-9c51-4fdd-a44e-24f30f718b78",
        "outputId": "9b07416b-6a70-46c8-832d-dda5d7444032"
      },
      "outputs": [
        {
          "output_type": "stream",
          "name": "stdout",
          "text": [
            "Is it raining (yes/no):yes\n",
            "Cary an umbrella\n"
          ]
        }
      ],
      "source": [
        "con=input(\"Is it raining (yes/no):\")\n",
        "if con == 'yes':\n",
        "    print(\"Cary an umbrella\")\n",
        "else:\n",
        "    print(\"Bye\")"
      ]
    },
    {
      "cell_type": "markdown",
      "id": "cfd273db-a3f5-4d05-8a4a-1dc588c795ec",
      "metadata": {
        "id": "cfd273db-a3f5-4d05-8a4a-1dc588c795ec"
      },
      "source": [
        "## 2. Write a program such that Python will ask you if it is raining or not. If your answer is ”yes”, Python will say ”Carry an umbrella”. If you say ”no”, Python will say ”No need to carry an umbrella”. If you type anything else, Python will say ”Bye”."
      ]
    },
    {
      "cell_type": "code",
      "execution_count": null,
      "id": "59e12b6c-3216-4a32-b443-5bbfad4de550",
      "metadata": {
        "colab": {
          "base_uri": "https://localhost:8080/"
        },
        "id": "59e12b6c-3216-4a32-b443-5bbfad4de550",
        "outputId": "51c4a7fd-fb99-4015-ba40-20915ec906e6"
      },
      "outputs": [
        {
          "output_type": "stream",
          "name": "stdout",
          "text": [
            "Is it raining (yes/no):no\n",
            "No need to carry an umbrella\n"
          ]
        }
      ],
      "source": [
        "con=input(\"Is it raining (yes/no):\")\n",
        "if con == 'yes':\n",
        "    print(\"Cary an umbrella\")\n",
        "elif con == 'no':\n",
        "    print(\"No need to carry an umbrella\")\n",
        "else:\n",
        "    print(\"Bye\")"
      ]
    },
    {
      "cell_type": "markdown",
      "id": "7efeae0a-c2b0-45ba-a9f8-985858d9ed87",
      "metadata": {
        "id": "7efeae0a-c2b0-45ba-a9f8-985858d9ed87"
      },
      "source": [
        "# 3. Write a Python program to calculate a student’s letter grade based on their numeric score using the following scale: A (90–100), B (80–89), C (70–79), D (60–69), and F (below 60). Additionally, provide a comment for each grade: ”Excellent” for A, ”Good” for B, ”Average” for C, ”Needs Improvement” for D, and ”Failing” for F."
      ]
    },
    {
      "cell_type": "code",
      "source": [
        "score = float(input(\"Enter the student's numeric score: \"))\n",
        "\n",
        "if 90 <= score <= 100:\n",
        "    print(\"Grade: A, Comment: Excellent\")\n",
        "elif 80 <= score < 90:\n",
        "    print(\"Grade: B, Comment: Good\")\n",
        "elif 70 <= score < 80:\n",
        "    print(\"Grade: C, Comment: Average\")\n",
        "elif 60 <= score < 70:\n",
        "    print(\"Grade: D, Comment: Needs Improvement\")\n",
        "elif 0 <= score < 60:\n",
        "    print(\"Grade: F, Comment: Failing\")\n",
        "else:\n",
        "    print(\"Invalid score entered.\")"
      ],
      "metadata": {
        "colab": {
          "base_uri": "https://localhost:8080/"
        },
        "id": "-KTA8C_JvfdG",
        "outputId": "f4620e67-232f-41d5-bc9f-aa6dfb30b829"
      },
      "id": "-KTA8C_JvfdG",
      "execution_count": null,
      "outputs": [
        {
          "output_type": "stream",
          "name": "stdout",
          "text": [
            "Enter the student's numeric score: 67\n",
            "Grade: D, Comment: Needs Improvement\n"
          ]
        }
      ]
    },
    {
      "cell_type": "markdown",
      "id": "d46946ed-f868-4be3-8a0a-5872a10d36ff",
      "metadata": {
        "id": "d46946ed-f868-4be3-8a0a-5872a10d36ff"
      },
      "source": [
        "# 4. Write a program that reads the lengths of the three sides of a triangle from the user. Then display a message that states the triangles type"
      ]
    },
    {
      "cell_type": "code",
      "execution_count": null,
      "id": "0f1c074f-eaff-4b7d-865c-65886fb2f788",
      "metadata": {
        "colab": {
          "base_uri": "https://localhost:8080/"
        },
        "id": "0f1c074f-eaff-4b7d-865c-65886fb2f788",
        "outputId": "1144e078-90c7-433e-8906-07a3fa8733d6"
      },
      "outputs": [
        {
          "output_type": "stream",
          "name": "stdout",
          "text": [
            "Enter the length of Side 1:20\n",
            "Enter the length of Side 2:20\n",
            "Enter the length of Side 3:30\n",
            "Isosceles Triangle\n"
          ]
        }
      ],
      "source": [
        "s1= float (input(\"Enter the length of Side 1:\"))\n",
        "s2= float (input(\"Enter the length of Side 2:\"))\n",
        "s3= float (input(\"Enter the length of Side 3:\"))\n",
        "\n",
        "if s1+s2> s3 and s2+s3 >s1  and s1+s3 >s2:\n",
        "    if s1 == s2 == s3:\n",
        "        (\"Equilateral Triangle\")\n",
        "    elif s1 == s2 or s1 == s3 or s2 == s3:\n",
        "        print(\"Isosceles Triangle\")\n",
        "    else:\n",
        "        print(\"Scalene Triangle\")\n",
        "else:\n",
        "    print(\"Invalid Triangle!!\")"
      ]
    },
    {
      "cell_type": "markdown",
      "id": "d349e218-302c-4a78-8020-1a4035ceab37",
      "metadata": {
        "id": "d349e218-302c-4a78-8020-1a4035ceab37"
      },
      "source": [
        "# 5. Write a program that takes an integer input from the user and tells the user whether the number is even or odd."
      ]
    },
    {
      "cell_type": "code",
      "execution_count": null,
      "id": "9500abb3-0610-45ee-8c7b-e1ab17c188fa",
      "metadata": {
        "colab": {
          "base_uri": "https://localhost:8080/"
        },
        "id": "9500abb3-0610-45ee-8c7b-e1ab17c188fa",
        "outputId": "3316f03c-53f5-4413-b14e-9ddeb1d1f2ab"
      },
      "outputs": [
        {
          "output_type": "stream",
          "name": "stdout",
          "text": [
            "Enter a number:14\n",
            "Even\n"
          ]
        }
      ],
      "source": [
        "no = int (input(\"Enter a number:\"))\n",
        "if no%2==0:\n",
        "    print(\"Even\")\n",
        "else:\n",
        "    print(\"Odd\")"
      ]
    },
    {
      "cell_type": "markdown",
      "id": "b0f1517e-c337-4521-8952-247fb16b851f",
      "metadata": {
        "id": "b0f1517e-c337-4521-8952-247fb16b851f"
      },
      "source": [
        "# 6. Write a program that takes a year as input and determines whether it is a leap year or not."
      ]
    },
    {
      "cell_type": "code",
      "execution_count": null,
      "id": "d64de147-6f3b-43c0-a1a3-d825de9bcc90",
      "metadata": {
        "colab": {
          "base_uri": "https://localhost:8080/"
        },
        "id": "d64de147-6f3b-43c0-a1a3-d825de9bcc90",
        "outputId": "1d553d0d-d182-4ff9-8218-0a7df1473409"
      },
      "outputs": [
        {
          "output_type": "stream",
          "name": "stdout",
          "text": [
            "Enter the year2000\n",
            "It's a leap year\n"
          ]
        }
      ],
      "source": [
        "year = int(input(\"Enter the year\"))\n",
        "if (year % 4 == 0 and year % 100 != 0)  or (year % 400 == 0):\n",
        "    print(\"It's a leap year\")\n",
        "else:\n",
        "    print(\"Not a leap year!\")"
      ]
    },
    {
      "cell_type": "markdown",
      "id": "229b8d21-09fd-40af-8aa2-18dcfa14e711",
      "metadata": {
        "id": "229b8d21-09fd-40af-8aa2-18dcfa14e711"
      },
      "source": [
        "# 7. Write a program that takes an integer input from the user and prints whether it is prime or not."
      ]
    },
    {
      "cell_type": "code",
      "execution_count": null,
      "id": "c84ae00c-09ea-4534-a656-cc4aa311f249",
      "metadata": {
        "colab": {
          "base_uri": "https://localhost:8080/"
        },
        "id": "c84ae00c-09ea-4534-a656-cc4aa311f249",
        "outputId": "0113012a-f492-4b3d-80cf-0656d91e1914"
      },
      "outputs": [
        {
          "output_type": "stream",
          "name": "stdout",
          "text": [
            "Enter a number: 14\n",
            "14 is not prime\n"
          ]
        }
      ],
      "source": [
        "number = int(input(\"Enter a number: \"))\n",
        "\n",
        "if number <= 1:\n",
        "    print(f\"{number} is not prime\")\n",
        "else:\n",
        "    prime = True\n",
        "\n",
        "    for i in range(2, number):\n",
        "        if number % i == 0:\n",
        "            prime = False\n",
        "            break\n",
        "\n",
        "    if prime:\n",
        "        print(f\"{number} is prime\")\n",
        "    else:\n",
        "        print(f\"{number} is not prime\")"
      ]
    },
    {
      "cell_type": "markdown",
      "id": "78808054-a772-497f-b92a-b87361fa0aae",
      "metadata": {
        "tags": [],
        "id": "78808054-a772-497f-b92a-b87361fa0aae"
      },
      "source": [
        "# 8. In line with the previous question, write a program to compute the sum of all prime numbers below a user input number, e.g., Sum of all prime numbers less than 20 is 77."
      ]
    },
    {
      "cell_type": "code",
      "execution_count": null,
      "id": "ab068490-6dee-43c0-92b4-003345409ae5",
      "metadata": {
        "colab": {
          "base_uri": "https://localhost:8080/"
        },
        "id": "ab068490-6dee-43c0-92b4-003345409ae5",
        "outputId": "6c21aa81-a9b6-43d0-dd92-572d2252067d"
      },
      "outputs": [
        {
          "output_type": "stream",
          "name": "stdout",
          "text": [
            "Enter a number: 14\n",
            "Sum of all prime numbers less than 14 is : 41\n"
          ]
        }
      ],
      "source": [
        "number = int(input(\"Enter a number: \"))\n",
        "total = 0\n",
        "for num in range(2, number):\n",
        "    prime = True\n",
        "    for i in range(2, num):\n",
        "        if num % i == 0:\n",
        "            prime = False\n",
        "            break\n",
        "    if prime:\n",
        "        total = total + num\n",
        "print(f\"Sum of all prime numbers less than {number} is : {total}\")"
      ]
    },
    {
      "cell_type": "markdown",
      "id": "58901c92-b640-45e3-a929-01bbba095c41",
      "metadata": {
        "id": "58901c92-b640-45e3-a929-01bbba095c41"
      },
      "source": [
        "# 9. Write a program that takes an integer input from the user. Use a while loop to continuously prompt for input until the user enters a positive number. If the final number is even, multiply it by 2 and if it is odd, square it. Display the results at the end."
      ]
    },
    {
      "cell_type": "code",
      "execution_count": null,
      "id": "8594f143-6438-4200-bf1f-3c9a14d35a7f",
      "metadata": {
        "colab": {
          "base_uri": "https://localhost:8080/"
        },
        "id": "8594f143-6438-4200-bf1f-3c9a14d35a7f",
        "outputId": "942d323f-ddb7-4d4a-cdc5-edf2c8b2891a"
      },
      "outputs": [
        {
          "output_type": "stream",
          "name": "stdout",
          "text": [
            "Enter a positive number: 14\n",
            "14 is even, so I multiplied it by 2 to get 28\n"
          ]
        }
      ],
      "source": [
        "no = int(input(\"Enter a positive number: \"))\n",
        "while no <= 0:\n",
        "    no = int(input(\"Nope, enter a positive number: \"))\n",
        "\n",
        "if no % 2 == 0:\n",
        "    result = no * 2\n",
        "    print(f\"{no} is even, so I multiplied it by 2 to get {result}\")\n",
        "else:\n",
        "    result = no * no\n",
        "    print(f\"{no} is odd, so I squared it to get {result}\")"
      ]
    },
    {
      "cell_type": "markdown",
      "id": "0aaa8c04-5205-4ac7-93c9-2d35c13da772",
      "metadata": {
        "id": "0aaa8c04-5205-4ac7-93c9-2d35c13da772"
      },
      "source": [
        "# 10. Write a program to find the remainder when a user input number is divided by 5 using match case. If the user inputs a non-integer, Python should say ”Invalid input” and stop."
      ]
    },
    {
      "cell_type": "code",
      "source": [
        "try:\n",
        "    num_str = input(\"Enter an integer: \")\n",
        "    num = int(num_str)\n",
        "\n",
        "    remainder = num % 5\n",
        "\n",
        "    match remainder:\n",
        "        case 0:\n",
        "            print(f\"The remainder when {num} is divided by 5 is 0\")\n",
        "        case 1:\n",
        "            print(f\"The remainder when {num} is divided by 5 is 1\")\n",
        "        case 2:\n",
        "            print(f\"The remainder when {num} is divided by 5 is 2\")\n",
        "        case 3:\n",
        "            print(f\"The remainder when {num} is divided by 5 is 3\")\n",
        "        case 4:\n",
        "            print(f\"The remainder when {num} is divided by 5 is 4\")\n",
        "\n",
        "except ValueError:\n",
        "    print(\"Invalid input\")"
      ],
      "metadata": {
        "colab": {
          "base_uri": "https://localhost:8080/"
        },
        "id": "51rQwUL8wBAn",
        "outputId": "f3ff9c7a-3860-4f40-e007-8bc4bd59f6ce"
      },
      "id": "51rQwUL8wBAn",
      "execution_count": null,
      "outputs": [
        {
          "output_type": "stream",
          "name": "stdout",
          "text": [
            "Enter an integer: 14\n",
            "The remainder when 14 is divided by 5 is 4\n"
          ]
        }
      ]
    },
    {
      "cell_type": "markdown",
      "source": [
        "# 11. Write a program that takes a string as input and prints out all possible sub strings of the string using loops, e.g., if the input is ”abc”, the output should be ”a”, ”ab”, ”abc”, ”b”, ”bc”, ”c”."
      ],
      "metadata": {
        "id": "mvIDZxUFUl3g"
      },
      "id": "mvIDZxUFUl3g"
    },
    {
      "cell_type": "code",
      "source": [
        "input_string = input(\"Enter a string: \")\n",
        "n = len(input_string)\n",
        "\n",
        "for i in range(n):\n",
        "    for j in range(i, n):\n",
        "        substring = input_string[i : j + 1]\n",
        "        print(substring)"
      ],
      "metadata": {
        "colab": {
          "base_uri": "https://localhost:8080/"
        },
        "id": "UyiB-5TfVBtH",
        "outputId": "bc5dcaec-c79b-42cd-db23-e77e41dee5c8"
      },
      "id": "UyiB-5TfVBtH",
      "execution_count": 1,
      "outputs": [
        {
          "output_type": "stream",
          "name": "stdout",
          "text": [
            "Enter a string: abc\n",
            "a\n",
            "ab\n",
            "abc\n",
            "b\n",
            "bc\n",
            "c\n"
          ]
        }
      ]
    },
    {
      "cell_type": "markdown",
      "source": [
        "# 12. Write a program that functions as a simple calculator. It should continuously accept a pair of numbers and an operator (+, -, *, /) from the user and print the result. If the user types ”exit”, the program quits. Otherwise the program continues asking for a pair of input numbers."
      ],
      "metadata": {
        "id": "svhU4kDOwRX9"
      },
      "id": "svhU4kDOwRX9"
    },
    {
      "cell_type": "code",
      "source": [
        "while True:\n",
        "    user_input = input(\"Type 'exit' to quit or press Enter to continue: \")\n",
        "    if user_input.lower() == 'exit':\n",
        "        break\n",
        "\n",
        "    try:\n",
        "        num1 = float(input(\"Enter the first number: \"))\n",
        "        operator = input(\"Enter the operator (+, -, *, /): \")\n",
        "        num2 = float(input(\"Enter the second number: \"))\n",
        "\n",
        "        if operator == '+':\n",
        "            result = num1 + num2\n",
        "        elif operator == '-':\n",
        "            result = num1 - num2\n",
        "        elif operator == '*':\n",
        "            result = num1 * num2\n",
        "        elif operator == '/':\n",
        "            if num2 == 0:\n",
        "                print(\"Error: Division by zero\")\n",
        "                continue\n",
        "            result = num1 / num2\n",
        "        else:\n",
        "            print(\"Invalid operator\")\n",
        "            continue\n",
        "\n",
        "        print(f\"Result: {result}\")\n",
        "\n",
        "    except ValueError:\n",
        "        print(\"Invalid input. Please enter valid numbers.\")\n",
        "    except Exception as e:\n",
        "        print(f\"An error occurred: {e}\")"
      ],
      "metadata": {
        "colab": {
          "base_uri": "https://localhost:8080/"
        },
        "id": "P967VwvqwhSM",
        "outputId": "36baf688-94ae-46bc-9473-2ab5930677af"
      },
      "id": "P967VwvqwhSM",
      "execution_count": null,
      "outputs": [
        {
          "name": "stdout",
          "output_type": "stream",
          "text": [
            "Type 'exit' to quit or press Enter to continue: \n",
            "Enter the first number: 20\n",
            "Enter the operator (+, -, *, /): +\n",
            "Enter the second number: 20\n",
            "Result: 40.0\n",
            "Type 'exit' to quit or press Enter to continue: exit\n"
          ]
        }
      ]
    },
    {
      "cell_type": "markdown",
      "source": [
        "# 13. Write a program to find out the mean, median, and mode of 1, 2, 3, 2, 3, 4, 4, 4, 5, 4, 5, 6"
      ],
      "metadata": {
        "id": "EFLLuz8YMX-Y"
      },
      "id": "EFLLuz8YMX-Y"
    },
    {
      "cell_type": "code",
      "source": [
        "data = [1, 2, 3, 2, 3, 4, 4, 4, 5, 4, 5, 6]\n",
        "\n",
        "total = 0\n",
        "count = 0\n",
        "for i in data:\n",
        "    total += i\n",
        "    count += 1\n",
        "mean = total / count\n",
        "print(f\"Mean: {mean}\")\n",
        "\n",
        "n = count\n",
        "frequency = {}\n",
        "for i in range(n):\n",
        "    for j in range(0, n - i - 1):\n",
        "        if data[j] > data[j + 1]:\n",
        "            data[j], data[j + 1] = data[j + 1], data[j]\n",
        "\n",
        "mid_index = count // 2\n",
        "if count % 2 == 0:\n",
        "    median = (data[mid_index - 1] + data[mid_index]) / 2\n",
        "else:\n",
        "    median = data[mid_index]\n",
        "print(f\"Median: {median}\")\n",
        "\n",
        "max_frequency = 0\n",
        "mode = []\n",
        "frequency = {}\n",
        "for i in data:\n",
        "    if i in frequency:\n",
        "        frequency[i] += 1\n",
        "    else:\n",
        "        frequency[i] = 1\n",
        "\n",
        "for i in frequency:\n",
        "    freq = frequency[i]\n",
        "    if freq > max_frequency:\n",
        "        max_frequency = freq\n",
        "        mode = [i]\n",
        "    elif freq == max_frequency and i not in mode:\n",
        "        mode.append(i)\n",
        "\n",
        "print(f\"Mode: {mode}\")"
      ],
      "metadata": {
        "colab": {
          "base_uri": "https://localhost:8080/"
        },
        "id": "64U4Gm2FM8bK",
        "outputId": "479ef10f-ce3b-4a96-a980-90d52588a9fc"
      },
      "id": "64U4Gm2FM8bK",
      "execution_count": null,
      "outputs": [
        {
          "output_type": "stream",
          "name": "stdout",
          "text": [
            "Mean: 3.5833333333333335\n",
            "Median: 4.0\n",
            "Mode: [4]\n"
          ]
        }
      ]
    },
    {
      "cell_type": "markdown",
      "source": [
        "# 14. Positions on a chess board are identified by a letter and a number. The letter identifies the column, while the number identifies the row, as shown below: Write a program that reads a position from the user and identify the proper color of the respective box\n",
        "\n",
        "![image.png](data:image/png;base64,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)"
      ],
      "metadata": {
        "id": "GVG2TLQCRRqA"
      },
      "id": "GVG2TLQCRRqA"
    },
    {
      "cell_type": "code",
      "source": [
        "position = input('Enter the chessboard position (e.g. a1, h8): ')\n",
        "\n",
        "column = position[0]\n",
        "row = position[1]\n",
        "\n",
        "if column == 'a':\n",
        "    col_num = 1\n",
        "elif column == 'b':\n",
        "    col_num = 2\n",
        "elif column == 'c':\n",
        "    col_num = 3\n",
        "elif column == 'd':\n",
        "    col_num = 4\n",
        "elif column == 'e':\n",
        "    col_num = 5\n",
        "elif column == 'f':\n",
        "    col_num = 6\n",
        "elif column == 'g':\n",
        "    col_num = 7\n",
        "elif column == 'h':\n",
        "    col_num = 8\n",
        "\n",
        "row_num = int(row)\n",
        "\n",
        "if (col_num + row_num) % 2 == 0:\n",
        "    print('Black')\n",
        "else:\n",
        "    print('White')\n"
      ],
      "metadata": {
        "colab": {
          "base_uri": "https://localhost:8080/"
        },
        "id": "G7mQ1AG4Sm62",
        "outputId": "24752958-0cf2-48b7-864f-3c03de8b764d"
      },
      "id": "G7mQ1AG4Sm62",
      "execution_count": null,
      "outputs": [
        {
          "output_type": "stream",
          "name": "stdout",
          "text": [
            "Enter the chessboard position (e.g. a1, h8): a4\n",
            "White\n"
          ]
        }
      ]
    },
    {
      "cell_type": "markdown",
      "source": [
        "# 15. Write a Python program that calculates the final cost of a hotel booking based on the room type\n",
        "\n",
        "*   Standard: $100/night\n",
        "\n",
        "*   Deluxe: $150/night\n",
        "\n",
        "*   Suite: $250/night\n",
        "\n",
        "## the length of stay (10% discount for >3 nights, 20% discount for >7 nights), the season (20% increase during peak season, 15% decrease during the off-season), and whether the customer is a loyalty member (5% additional discount). The program should output the final booking cost after applying all relevant discounts and adjustments."
      ],
      "metadata": {
        "id": "-e0HdTQtUWTM"
      },
      "id": "-e0HdTQtUWTM"
    },
    {
      "cell_type": "code",
      "source": [
        "# --- Base Prices ---\n",
        "s = 100  # Standard price\n",
        "d = 150  # Deluxe price\n",
        "u = 250  # Suite price\n",
        "\n",
        "# --- Get User Input ---\n",
        "r = input(\"Enter room type (Standard, Deluxe, Suite): \")\n",
        "\n",
        "# Handle potential error if user types letters instead of a number for nights\n",
        "try:\n",
        "    n = int(input(\"Enter length of stay (nights): \"))\n",
        "except ValueError:\n",
        "    print(\"Invalid input for nights. Setting nights to 1.\")\n",
        "    n = 1\n",
        "\n",
        "se = input(\"Enter season (Peak, Off-Season, Normal): \")\n",
        "l = input(\"Loyalty member? (yes/no): \")\n",
        "\n",
        "# --- Step 1: Calculate Base Cost ---\n",
        "if r == \"Standard\":\n",
        "    p = s\n",
        "elif r == \"Deluxe\":\n",
        "    p = d\n",
        "elif r == \"Suite\":\n",
        "    p = u\n",
        "else:\n",
        "    # If room type is not recognized, set price to 0 and show an alert\n",
        "    print(\"Room type not recognized. Using a base price of $0.\")\n",
        "    p = 0\n",
        "\n",
        "c = p * n  # Total cost\n",
        "\n",
        "# --- Step 2: Apply Length of Stay Discount ---\n",
        "if n > 7:\n",
        "    c *= 0.80\n",
        "elif n > 3:\n",
        "    c *= 0.90\n",
        "\n",
        "# --- Step 3: Apply Season Adjustment ---\n",
        "if se == \"Peak\":\n",
        "    c *= 1.20\n",
        "elif se == \"Off-Season\":\n",
        "    c *= 0.85\n",
        "\n",
        "# --- Step 4: Apply Loyalty Discount ---\n",
        "if l == \"yes\":\n",
        "    c *= 0.95\n",
        "\n",
        "# --- Output ---\n",
        "print(\"\\n--- Final Cost ---\")\n",
        "print(\"Room:\", r)\n",
        "print(\"Nights:\", n)\n",
        "# Use a basic print for cost to avoid f-string formatting if that is also not taught\n",
        "print(\"Cost: $\", c)"
      ],
      "metadata": {
        "colab": {
          "base_uri": "https://localhost:8080/"
        },
        "id": "m7ox-b-5Uiqy",
        "outputId": "7ab713d1-2f23-4c7c-874e-3c46b91bfc80"
      },
      "id": "m7ox-b-5Uiqy",
      "execution_count": null,
      "outputs": [
        {
          "output_type": "stream",
          "name": "stdout",
          "text": [
            "Enter room type (Standard, Deluxe, Suite): Suite\n",
            "Enter length of stay (nights): 7\n",
            "Enter season (Peak, Off-Season, Normal): normal\n",
            "Loyalty member? (yes/no): no\n",
            "\n",
            "--- Final Cost ---\n",
            "Room: Suite\n",
            "Nights: 7\n",
            "Cost: $ 1575.0\n"
          ]
        }
      ]
    },
    {
      "cell_type": "markdown",
      "source": [
        "# 16. Write a program to determine whether a given natural number is a perfect number. A natural numberis said to be a perfect number if it is the sum of its divisors. For Example, 6 is a perfect number because 6 = 1+2+3, but 15 is not a perfect number because 15!= 1+3+5."
      ],
      "metadata": {
        "id": "dVpm7hgFWIH8"
      },
      "id": "dVpm7hgFWIH8"
    },
    {
      "cell_type": "code",
      "source": [
        "num = int(input(\"Enter a natural number: \"))\n",
        "\n",
        "if num <= 0:\n",
        "    print(\"Please enter a natural number (a positive integer).\")\n",
        "else:\n",
        "    sum_of_divisors = 0\n",
        "    for i in range(1, num):\n",
        "        if num % i == 0:\n",
        "            sum_of_divisors += i\n",
        "\n",
        "    if sum_of_divisors == num:\n",
        "        print(f\"{num} is a perfect number.\")\n",
        "    else:\n",
        "        print(f\"{num} is not a perfect number.\")"
      ],
      "metadata": {
        "colab": {
          "base_uri": "https://localhost:8080/"
        },
        "id": "mQaeEGpDWOIi",
        "outputId": "de6a5ae9-cb7a-4fd3-aa8b-3db545d67a25"
      },
      "id": "mQaeEGpDWOIi",
      "execution_count": null,
      "outputs": [
        {
          "output_type": "stream",
          "name": "stdout",
          "text": [
            "Enter a natural number: 14\n",
            "14 is not a perfect number.\n"
          ]
        }
      ]
    },
    {
      "cell_type": "markdown",
      "source": [
        "# 17. Write a program that finds the sum of the n terms of the following series:\n",
        "\n",
        "\n",
        "*   1 - x^2 / 2! + x^4 / 4! - x^6 / 6! + . . . + x^2n / (2n)!\n",
        "*   1 + x / 1! + x^2 / 2! + x^3 / 3! + . . . + x^n / n!\n",
        "\n",
        "\n",
        "*   1 - 3 + 5 - 7 + 9 -. . .\n",
        "\n",
        "\n",
        "\n"
      ],
      "metadata": {
        "id": "KgdTs8Tfkiqa"
      },
      "id": "KgdTs8Tfkiqa"
    },
    {
      "cell_type": "code",
      "source": [
        "import math\n",
        "\n",
        "x_val = float(input(\"Enter the value of x: \"))\n",
        "n_terms = int(input(\"Enter the number of terms (n): \"))\n",
        "\n",
        "# Series 1: 1 - x^2 / 2! + x^4 / 4! - x^6 / 6! + . . . + x^2n / (2n)!\n",
        "sum1 = 0\n",
        "for i in range(n_terms):\n",
        "    numerator = x_val**(2*i)\n",
        "    denominator = 1\n",
        "    for j in range(1, 2*i + 1):\n",
        "        denominator *= j\n",
        "    term1 = ((-1)**i) * numerator / denominator\n",
        "    sum1 += term1\n",
        "print(f\"Sum of Series 1: {sum1}\")\n",
        "\n",
        "# Series 2: 1 + x / 1! + x^2 / 2! + x^3 / 3! + . . . + x^n / n!\n",
        "sum2 = 0\n",
        "for i in range(n_terms + 1):\n",
        "    numerator = x_val**i\n",
        "    denominator = 1\n",
        "    for j in range(1, i + 1):\n",
        "        denominator *= j\n",
        "    term2 = numerator / denominator\n",
        "    sum2 += term2\n",
        "print(f\"Sum of Series 2: {sum2}\")\n",
        "\n",
        "# Series 3: 1 - 3 + 5 - 7 + 9 -. . . (Alternating odd numbers)\n",
        "sum3 = 0\n",
        "for i in range(n_terms):\n",
        "    term3 = (2 * i + 1) * ((-1)**i)\n",
        "    sum3 += term3\n",
        "print(f\"Sum of Series 3: {sum3}\")"
      ],
      "metadata": {
        "colab": {
          "base_uri": "https://localhost:8080/"
        },
        "id": "T8pxgxL9mG5p",
        "outputId": "5fe0d36e-9528-4a18-d6ab-7c2dd20be14d"
      },
      "id": "T8pxgxL9mG5p",
      "execution_count": null,
      "outputs": [
        {
          "output_type": "stream",
          "name": "stdout",
          "text": [
            "Enter the value of x: 14\n",
            "Enter the number of terms (n): 4\n",
            "Sum of Series 1: -8954.022222222224\n",
            "Sum of Series 2: 2171.0\n",
            "Sum of Series 3: -4\n"
          ]
        }
      ]
    },
    {
      "cell_type": "markdown",
      "source": [
        "# 18. Write a python program that displays all the numbers from 100 to 1,000, ten per line, that are divisible by 5 or 6. Numbers are separated by exactly one space."
      ],
      "metadata": {
        "id": "qNi9iNkwow8X"
      },
      "id": "qNi9iNkwow8X"
    },
    {
      "cell_type": "code",
      "source": [
        "count = 0\n",
        "for number in range(100, 1001):\n",
        "    if number % 5 == 0 or number % 6 == 0:\n",
        "        print(number, end=\" \")\n",
        "        count += 1\n",
        "        if count % 10 == 0:\n",
        "            print()"
      ],
      "metadata": {
        "colab": {
          "base_uri": "https://localhost:8080/"
        },
        "id": "uh2MKYYNo5JA",
        "outputId": "a75d19ab-7ab8-4b74-b714-37e4bf8311d1"
      },
      "id": "uh2MKYYNo5JA",
      "execution_count": null,
      "outputs": [
        {
          "output_type": "stream",
          "name": "stdout",
          "text": [
            "100 102 105 108 110 114 115 120 125 126 \n",
            "130 132 135 138 140 144 145 150 155 156 \n",
            "160 162 165 168 170 174 175 180 185 186 \n",
            "190 192 195 198 200 204 205 210 215 216 \n",
            "220 222 225 228 230 234 235 240 245 246 \n",
            "250 252 255 258 260 264 265 270 275 276 \n",
            "280 282 285 288 290 294 295 300 305 306 \n",
            "310 312 315 318 320 324 325 330 335 336 \n",
            "340 342 345 348 350 354 355 360 365 366 \n",
            "370 372 375 378 380 384 385 390 395 396 \n",
            "400 402 405 408 410 414 415 420 425 426 \n",
            "430 432 435 438 440 444 445 450 455 456 \n",
            "460 462 465 468 470 474 475 480 485 486 \n",
            "490 492 495 498 500 504 505 510 515 516 \n",
            "520 522 525 528 530 534 535 540 545 546 \n",
            "550 552 555 558 560 564 565 570 575 576 \n",
            "580 582 585 588 590 594 595 600 605 606 \n",
            "610 612 615 618 620 624 625 630 635 636 \n",
            "640 642 645 648 650 654 655 660 665 666 \n",
            "670 672 675 678 680 684 685 690 695 696 \n",
            "700 702 705 708 710 714 715 720 725 726 \n",
            "730 732 735 738 740 744 745 750 755 756 \n",
            "760 762 765 768 770 774 775 780 785 786 \n",
            "790 792 795 798 800 804 805 810 815 816 \n",
            "820 822 825 828 830 834 835 840 845 846 \n",
            "850 852 855 858 860 864 865 870 875 876 \n",
            "880 882 885 888 890 894 895 900 905 906 \n",
            "910 912 915 918 920 924 925 930 935 936 \n",
            "940 942 945 948 950 954 955 960 965 966 \n",
            "970 972 975 978 980 984 985 990 995 996 \n",
            "1000 "
          ]
        }
      ]
    },
    {
      "cell_type": "markdown",
      "source": [
        "# 19. Write a Python program that prints all numbers from 1 to 100, except multiples of 7, using a for loop with continue."
      ],
      "metadata": {
        "id": "KX7nX50FphnP"
      },
      "id": "KX7nX50FphnP"
    },
    {
      "cell_type": "code",
      "source": [
        "for number in range(1, 101):\n",
        "    if number % 7 == 0:\n",
        "        continue\n",
        "    print(number)"
      ],
      "metadata": {
        "colab": {
          "base_uri": "https://localhost:8080/"
        },
        "id": "LGiMygM5pnZp",
        "outputId": "85d69687-b030-4531-9a4c-b25ac9b1d165"
      },
      "id": "LGiMygM5pnZp",
      "execution_count": null,
      "outputs": [
        {
          "output_type": "stream",
          "name": "stdout",
          "text": [
            "1\n",
            "2\n",
            "3\n",
            "4\n",
            "5\n",
            "6\n",
            "8\n",
            "9\n",
            "10\n",
            "11\n",
            "12\n",
            "13\n",
            "15\n",
            "16\n",
            "17\n",
            "18\n",
            "19\n",
            "20\n",
            "22\n",
            "23\n",
            "24\n",
            "25\n",
            "26\n",
            "27\n",
            "29\n",
            "30\n",
            "31\n",
            "32\n",
            "33\n",
            "34\n",
            "36\n",
            "37\n",
            "38\n",
            "39\n",
            "40\n",
            "41\n",
            "43\n",
            "44\n",
            "45\n",
            "46\n",
            "47\n",
            "48\n",
            "50\n",
            "51\n",
            "52\n",
            "53\n",
            "54\n",
            "55\n",
            "57\n",
            "58\n",
            "59\n",
            "60\n",
            "61\n",
            "62\n",
            "64\n",
            "65\n",
            "66\n",
            "67\n",
            "68\n",
            "69\n",
            "71\n",
            "72\n",
            "73\n",
            "74\n",
            "75\n",
            "76\n",
            "78\n",
            "79\n",
            "80\n",
            "81\n",
            "82\n",
            "83\n",
            "85\n",
            "86\n",
            "87\n",
            "88\n",
            "89\n",
            "90\n",
            "92\n",
            "93\n",
            "94\n",
            "95\n",
            "96\n",
            "97\n",
            "99\n",
            "100\n"
          ]
        }
      ]
    },
    {
      "cell_type": "markdown",
      "source": [
        "#20. Write a python program that accepts a positive integer n and reverses the order of its digits, e.g., 1234 becomes 4321."
      ],
      "metadata": {
        "id": "pk9EubT7qDsN"
      },
      "id": "pk9EubT7qDsN"
    },
    {
      "cell_type": "code",
      "source": [
        "num = int(input(\"Enter a positive integer: \"))\n",
        "\n",
        "if num < 0:\n",
        "    print(\"Please enter a positive integer.\")\n",
        "else:\n",
        "    reversed_num = 0\n",
        "    original_num = num\n",
        "\n",
        "    while num > 0:\n",
        "        digit = num % 10\n",
        "        reversed_num = reversed_num * 10 + digit\n",
        "        num = num // 10\n",
        "\n",
        "    print(f\"The reverse of {original_num} is {reversed_num}\")"
      ],
      "metadata": {
        "colab": {
          "base_uri": "https://localhost:8080/"
        },
        "id": "8r_xhhOAqM8N",
        "outputId": "58b1c59f-ad13-49ca-831f-2902c6b663d7"
      },
      "id": "8r_xhhOAqM8N",
      "execution_count": null,
      "outputs": [
        {
          "output_type": "stream",
          "name": "stdout",
          "text": [
            "Enter a positive integer: 14\n",
            "The reverse of 14 is 41\n"
          ]
        }
      ]
    },
    {
      "cell_type": "markdown",
      "source": [
        "# 21. Write a python program that reads an integer and displays all its smallest factors in increasing order, e.g., if the input integer is 120, the output should be as follows: 2, 2, 2, 3, 5"
      ],
      "metadata": {
        "id": "JD4N4w-Yq14n"
      },
      "id": "JD4N4w-Yq14n"
    },
    {
      "cell_type": "code",
      "source": [
        "num = int(input(\"Enter an integer: \"))\n",
        "\n",
        "if num <= 1:\n",
        "    print(\"Please enter an integer greater than 1.\")\n",
        "else:\n",
        "    print(f\"The smallest factors of {num} are:\", end=\" \")\n",
        "    divisor = 2\n",
        "    while divisor <= num:\n",
        "        if num % divisor == 0:\n",
        "            print(divisor, end=\" \")\n",
        "            num = num // divisor\n",
        "        else:\n",
        "            divisor += 1\n",
        "    print()"
      ],
      "metadata": {
        "colab": {
          "base_uri": "https://localhost:8080/"
        },
        "id": "V4ChBvFnq-Tr",
        "outputId": "49eebdaa-0b1c-45ba-8fa0-f3cbc56c3ff0"
      },
      "id": "V4ChBvFnq-Tr",
      "execution_count": null,
      "outputs": [
        {
          "output_type": "stream",
          "name": "stdout",
          "text": [
            "Enter an integer: 14\n",
            "The smallest factors of 14 are: 2 7 \n"
          ]
        }
      ]
    },
    {
      "cell_type": "markdown",
      "source": [
        "# 22. Write a python program to determine whether or not a number n is a factorial number."
      ],
      "metadata": {
        "id": "Pqa0tcPmrnq_"
      },
      "id": "Pqa0tcPmrnq_"
    },
    {
      "cell_type": "code",
      "source": [
        "n = int(input(\"Enter a number: \"))\n",
        "\n",
        "fact = 1\n",
        "i = 1\n",
        "\n",
        "while fact < n:\n",
        "    i += 1\n",
        "    fact *= i\n",
        "\n",
        "if fact == n:\n",
        "    print(f\"{n} is a factorial number ({i}! = {n})\")\n",
        "else:\n",
        "    print(f\"{n} is NOT a factorial number\")\n"
      ],
      "metadata": {
        "colab": {
          "base_uri": "https://localhost:8080/"
        },
        "id": "zyu1N-lFrs4v",
        "outputId": "1ad3ffde-fde2-4126-d32d-c0564a0d232c"
      },
      "id": "zyu1N-lFrs4v",
      "execution_count": null,
      "outputs": [
        {
          "output_type": "stream",
          "name": "stdout",
          "text": [
            "Enter a number: 14\n",
            "14 is NOT a factorial number\n"
          ]
        }
      ]
    },
    {
      "cell_type": "markdown",
      "source": [
        "# 23. Write a program that takes a number from the user and continuously sums its digits until the sum becomes a single-digit number."
      ],
      "metadata": {
        "id": "oyy8T7JisnEg"
      },
      "id": "oyy8T7JisnEg"
    },
    {
      "cell_type": "code",
      "source": [
        "n = int(input(\"Enter a number: \"))\n",
        "\n",
        "while n >= 10:\n",
        "    sum_digits = 0\n",
        "    while n > 0:\n",
        "        sum_digits += n % 10\n",
        "        n //= 10\n",
        "    n = sum_digits\n",
        "\n",
        "print(\"The single-digit sum is:\", n)"
      ],
      "metadata": {
        "colab": {
          "base_uri": "https://localhost:8080/"
        },
        "id": "_c0N317sstas",
        "outputId": "c4b1bf92-0426-473f-ba51-82fb0b0e599c"
      },
      "id": "_c0N317sstas",
      "execution_count": null,
      "outputs": [
        {
          "output_type": "stream",
          "name": "stdout",
          "text": [
            "Enter a number: 14\n",
            "The single-digit sum is: 5\n"
          ]
        }
      ]
    },
    {
      "cell_type": "markdown",
      "source": [
        "# 24. Write a program to simulate a simple ATM withdrawal system. The user can enter an amount they want to withdraw, and the program will provide the number of 100, 50, 20, and 10 denomination notes required to dispense that amount. The program should check if the requested amount is a multiple of 10 and if the ATM has enough cash."
      ],
      "metadata": {
        "id": "Yv_k1S4WtBK-"
      },
      "id": "Yv_k1S4WtBK-"
    },
    {
      "cell_type": "code",
      "source": [
        "atm_notes = {100: 10, 50: 10, 20: 10, 10: 10}\n",
        "\n",
        "def total_cash():\n",
        "    return sum(denom * count for denom, count in atm_notes.items())\n",
        "\n",
        "def atm_withdraw(amount):\n",
        "    if amount % 10 != 0:\n",
        "        print(\"Error: Amount must be a multiple of 10.\")\n",
        "        return\n",
        "    if amount > total_cash():\n",
        "        print(\"Error: ATM does not have enough cash.\")\n",
        "        return\n",
        "\n",
        "    notes_to_dispense = {}\n",
        "    remaining = amount\n",
        "    for denom in sorted(atm_notes.keys(), reverse=True):\n",
        "        num_notes = min(remaining // denom, atm_notes[denom])\n",
        "        if num_notes > 0:\n",
        "            notes_to_dispense[denom] = num_notes\n",
        "            remaining -= denom * num_notes\n",
        "\n",
        "    if remaining != 0:\n",
        "        print(\"Error: Cannot dispense the exact amount with available notes.\")\n",
        "        return\n",
        "\n",
        "    for denom, num in notes_to_dispense.items():\n",
        "        atm_notes[denom] -= num\n",
        "\n",
        "    print(f\"Amount {amount} dispensed as:\")\n",
        "    for denom in sorted(notes_to_dispense.keys(), reverse=True):\n",
        "        print(f\"{denom} x {notes_to_dispense[denom]}\")\n",
        "\n",
        "# Input and withdrawal\n",
        "amount = int(input(\"Enter the amount to withdraw: \"))\n",
        "print(f\"Total ATM cash before transaction: {total_cash()}\")\n",
        "atm_withdraw(amount)\n",
        "print(f\"Total ATM cash after transaction: {total_cash()}\")\n"
      ],
      "metadata": {
        "colab": {
          "base_uri": "https://localhost:8080/"
        },
        "id": "l6zVJlB-tGIB",
        "outputId": "62866917-7c5f-47db-abc2-4125983764c6"
      },
      "id": "l6zVJlB-tGIB",
      "execution_count": null,
      "outputs": [
        {
          "output_type": "stream",
          "name": "stdout",
          "text": [
            "Enter the amount to withdraw: 1200\n",
            "Total ATM cash before transaction: 1800\n",
            "Amount 1200 dispensed as:\n",
            "100 x 10\n",
            "50 x 4\n",
            "Total ATM cash after transaction: 600\n"
          ]
        }
      ]
    },
    {
      "cell_type": "markdown",
      "source": [
        "# 25. Write a program that reads an integer from the user and checks which digits(0-9) have appeared in the number. The program should print out the digits that have appeared, e.g. input=1234, output= ONE TWO THREE FOUR"
      ],
      "metadata": {
        "id": "9ez2u6iUud09"
      },
      "id": "9ez2u6iUud09"
    },
    {
      "cell_type": "code",
      "source": [
        "num_str = input(\"Enter an integer: \")\n",
        "\n",
        "digit_names = {\n",
        "    '0': \"ZERO\", '1': \"ONE\", '2': \"TWO\", '3': \"THREE\", '4': \"FOUR\",\n",
        "    '5': \"FIVE\", '6': \"SIX\", '7': \"SEVEN\", '8': \"EIGHT\", '9': \"NINE\"\n",
        "}\n",
        "\n",
        "output = []\n",
        "for digit_char in num_str:\n",
        "    if digit_char in digit_names:\n",
        "        output.append(digit_names[digit_char])\n",
        "    else:\n",
        "        pass\n",
        "\n",
        "if output:\n",
        "    print(\" \".join(output))\n",
        "else:\n",
        "    print(\"No digits found in the input.\")"
      ],
      "metadata": {
        "colab": {
          "base_uri": "https://localhost:8080/"
        },
        "id": "xGcCTHJhuk96",
        "outputId": "11184a16-ec24-4eb2-fde2-e18cffb79e52"
      },
      "id": "xGcCTHJhuk96",
      "execution_count": null,
      "outputs": [
        {
          "output_type": "stream",
          "name": "stdout",
          "text": [
            "Enter an integer: 14042004\n",
            "ONE FOUR ZERO FOUR TWO ZERO ZERO FOUR\n"
          ]
        }
      ]
    },
    {
      "cell_type": "markdown",
      "source": [
        "# 26. Write Python programs using loops to print the following patterns:\n",
        "\n",
        "![image.png](data:image/png;base64,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)"
      ],
      "metadata": {
        "id": "vJe5wISmvpC4"
      },
      "id": "vJe5wISmvpC4"
    },
    {
      "cell_type": "code",
      "source": [
        "\"\"\"\n",
        "a.\n",
        "\n",
        "*\n",
        "**\n",
        "***\n",
        "****\n",
        "\n",
        "\"\"\"\n",
        "\n",
        "n = 4\n",
        "for i in range(1, n+1):\n",
        "    print('*' * i)"
      ],
      "metadata": {
        "colab": {
          "base_uri": "https://localhost:8080/"
        },
        "id": "1tVpWv5fvtPJ",
        "outputId": "75cb449c-ac22-4ee5-9640-72b88fd55f60"
      },
      "id": "1tVpWv5fvtPJ",
      "execution_count": null,
      "outputs": [
        {
          "output_type": "stream",
          "name": "stdout",
          "text": [
            "*\n",
            "**\n",
            "***\n",
            "****\n"
          ]
        }
      ]
    },
    {
      "cell_type": "code",
      "source": [
        "\"\"\"\n",
        "b.\n",
        "\n",
        "   *\n",
        "  **\n",
        " ***\n",
        "****\n",
        "\n",
        "\"\"\"\n",
        "\n",
        "n = 4\n",
        "for i in range(1, n + 1):\n",
        "    print(\" \" * (n - i) + \"*\" * i)"
      ],
      "metadata": {
        "colab": {
          "base_uri": "https://localhost:8080/"
        },
        "id": "RWXHwub3wcdd",
        "outputId": "4c6de554-0e05-4831-e535-2aa0e09c335a"
      },
      "id": "RWXHwub3wcdd",
      "execution_count": null,
      "outputs": [
        {
          "output_type": "stream",
          "name": "stdout",
          "text": [
            "   *\n",
            "  **\n",
            " ***\n",
            "****\n"
          ]
        }
      ]
    },
    {
      "cell_type": "code",
      "source": [
        "\"\"\"\n",
        "c.\n",
        "\n",
        "****\n",
        " ***\n",
        "  **\n",
        "   *\n",
        "\n",
        "\"\"\"\n",
        "\n",
        "n = 4\n",
        "for i in range(n, 0, -1):\n",
        "    print(\" \" * (n - i) + \"*\" * i)"
      ],
      "metadata": {
        "colab": {
          "base_uri": "https://localhost:8080/"
        },
        "id": "y9X1VexcxQ_O",
        "outputId": "36ee5886-e449-4260-f168-8baf91e7939e"
      },
      "id": "y9X1VexcxQ_O",
      "execution_count": null,
      "outputs": [
        {
          "output_type": "stream",
          "name": "stdout",
          "text": [
            "****\n",
            " ***\n",
            "  **\n",
            "   *\n"
          ]
        }
      ]
    },
    {
      "cell_type": "code",
      "source": [
        "\"\"\"\n",
        "d.\n",
        "\n",
        "****\n",
        "***\n",
        "**\n",
        "*\n",
        "\n",
        "\"\"\"\n",
        "\n",
        "n = 4\n",
        "for i in range(n, 0, -1):\n",
        "    print(\"*\" * i)"
      ],
      "metadata": {
        "colab": {
          "base_uri": "https://localhost:8080/"
        },
        "id": "NvbBSbeAxvRC",
        "outputId": "cc3218f4-d744-4365-bba5-5fcf8a103ad3"
      },
      "id": "NvbBSbeAxvRC",
      "execution_count": null,
      "outputs": [
        {
          "output_type": "stream",
          "name": "stdout",
          "text": [
            "****\n",
            "***\n",
            "**\n",
            "*\n"
          ]
        }
      ]
    },
    {
      "cell_type": "code",
      "source": [
        "\"\"\"\n",
        "e.\n",
        "****\n",
        "***\n",
        " *\n",
        "\"\"\"\n",
        "\n",
        "n = 4\n",
        "\n",
        "for i in range(n, 0, -1):\n",
        "    print(\" \" * ((n - i) // 2)+ \"*\" * i)"
      ],
      "metadata": {
        "colab": {
          "base_uri": "https://localhost:8080/"
        },
        "id": "GT6eiqgnx2d0",
        "outputId": "8d4aa5ff-91c6-429e-e97f-45d79425fd23"
      },
      "id": "GT6eiqgnx2d0",
      "execution_count": null,
      "outputs": [
        {
          "output_type": "stream",
          "name": "stdout",
          "text": [
            "****\n",
            "***\n",
            " **\n",
            " *\n"
          ]
        }
      ]
    },
    {
      "cell_type": "code",
      "source": [
        "\"\"\"\n",
        " f.\n",
        "    *\n",
        "   ***\n",
        "  *****\n",
        " *******\n",
        "  *****\n",
        "   ***\n",
        "    *\n",
        "\"\"\"\n",
        "n = 4\n",
        "for i in range(1, n+1):\n",
        "    print(' '*(n-i) + '*'*(2*i-1))\n",
        "for i in range(n-1, 0, -1):\n",
        "    print(' '*(n-i) + '*'*(2*i-1))\n"
      ],
      "metadata": {
        "colab": {
          "base_uri": "https://localhost:8080/"
        },
        "id": "dDGGnbW_ySgM",
        "outputId": "64b9fda3-956c-4068-fa29-7c83ba40f42e"
      },
      "id": "dDGGnbW_ySgM",
      "execution_count": null,
      "outputs": [
        {
          "output_type": "stream",
          "name": "stdout",
          "text": [
            "   *\n",
            "  ***\n",
            " *****\n",
            "*******\n",
            " *****\n",
            "  ***\n",
            "   *\n"
          ]
        }
      ]
    },
    {
      "cell_type": "code",
      "source": [
        "\"\"\"\n",
        "g.\n",
        "   *\n",
        "  * *\n",
        " *   *\n",
        "*******\n",
        "\n",
        "\"\"\"\n",
        "\n",
        "rows = 4\n",
        "for i in range(1, rows):\n",
        "    print(' '*(rows-i) + '*' + ' '*(2*i-3) + ('*' if i>1 else ''))\n",
        "print('*'*(2*rows-1))\n"
      ],
      "metadata": {
        "colab": {
          "base_uri": "https://localhost:8080/"
        },
        "id": "o4J8PB-IzOVe",
        "outputId": "c34bcc89-e6b4-4508-807d-f1d70d27a7ed"
      },
      "id": "o4J8PB-IzOVe",
      "execution_count": null,
      "outputs": [
        {
          "output_type": "stream",
          "name": "stdout",
          "text": [
            "   *\n",
            "  * *\n",
            " *   *\n",
            "*******\n"
          ]
        }
      ]
    },
    {
      "cell_type": "code",
      "source": [
        "\"\"\"\n",
        "h.\n",
        "   *\n",
        "  * *\n",
        " *   *\n",
        "*     *\n",
        " *   *\n",
        "  * *\n",
        "   *\n",
        "\n",
        "\"\"\"\n",
        "\n",
        "n = 4\n",
        "for i in range(1, n+1):\n",
        "    if i == 1:\n",
        "        print(' '*(n-i) + '*')\n",
        "    else:\n",
        "        print(' '*(n-i) + '*' + ' '*(2*i-3) + '*')\n",
        "for i in range(n-1, 0, -1):\n",
        "    if i == 1:\n",
        "        print(' '*(n-i) + '*')\n",
        "    else:\n",
        "        print(' '*(n-i) + '*' + ' '*(2*i-3) + '*')\n"
      ],
      "metadata": {
        "colab": {
          "base_uri": "https://localhost:8080/"
        },
        "id": "9NZerl0rzgCN",
        "outputId": "a81571db-6e26-45f0-ecb6-0ff9ec574aba"
      },
      "id": "9NZerl0rzgCN",
      "execution_count": null,
      "outputs": [
        {
          "output_type": "stream",
          "name": "stdout",
          "text": [
            "   *\n",
            "  * *\n",
            " *   *\n",
            "*     *\n",
            " *   *\n",
            "  * *\n",
            "   *\n"
          ]
        }
      ]
    },
    {
      "cell_type": "code",
      "source": [
        "\"\"\"\n",
        "i.\n",
        "* * * * *\n",
        "*       *\n",
        "*       *\n",
        "*       *\n",
        "* * * * *\n",
        "\"\"\"\n",
        "\n",
        "n = 5\n",
        "\n",
        "for i in range(n):\n",
        "    for j in range(n):\n",
        "        if i == 0 or i == n-1 or j == 0 or j == n-1:\n",
        "            print(\"*\", end=\" \")\n",
        "        else:\n",
        "            print(\" \", end=\" \")\n",
        "    print()\n",
        "\n"
      ],
      "metadata": {
        "colab": {
          "base_uri": "https://localhost:8080/"
        },
        "id": "fpm-ItYHzxsK",
        "outputId": "33561603-1748-476a-921f-f4bc90005f1f"
      },
      "id": "fpm-ItYHzxsK",
      "execution_count": null,
      "outputs": [
        {
          "output_type": "stream",
          "name": "stdout",
          "text": [
            "* * * * * \n",
            "*       * \n",
            "*       * \n",
            "*       * \n",
            "* * * * * \n"
          ]
        }
      ]
    },
    {
      "cell_type": "code",
      "source": [
        "\"\"\"\n",
        "j.\n",
        "\n",
        "0\n",
        "0 1\n",
        "0 1 2\n",
        "0 1 2 3\n",
        "\n",
        "\"\"\"\n",
        "\n",
        "n = 4\n",
        "for i in range(n):\n",
        "    for j in range(i+1):\n",
        "        print(j, end=\" \")\n",
        "    print()\n"
      ],
      "metadata": {
        "colab": {
          "base_uri": "https://localhost:8080/"
        },
        "id": "H7NqZ7Rg0Hs5",
        "outputId": "69041820-226f-489a-ad80-a4e7e1aaa8e5"
      },
      "id": "H7NqZ7Rg0Hs5",
      "execution_count": null,
      "outputs": [
        {
          "output_type": "stream",
          "name": "stdout",
          "text": [
            "0 \n",
            "0 1 \n",
            "0 1 2 \n",
            "0 1 2 3 \n"
          ]
        }
      ]
    },
    {
      "cell_type": "code",
      "source": [
        "\"\"\"\n",
        "k.\n",
        "\n",
        "1\n",
        "3 3\n",
        "5 5 5\n",
        "7 7 7 7\n",
        "9 9 9 9 9\n",
        "\n",
        "\"\"\"\n",
        "n = 5\n",
        "num = 1\n",
        "for i in range(1, n+1):\n",
        "    for j in range(i):\n",
        "        print(num, end=' ')\n",
        "    num += 2\n",
        "    print()\n"
      ],
      "metadata": {
        "colab": {
          "base_uri": "https://localhost:8080/"
        },
        "id": "sppUHhON02ou",
        "outputId": "12bb7aad-83e9-48d0-9435-20cc0f89455b"
      },
      "id": "sppUHhON02ou",
      "execution_count": null,
      "outputs": [
        {
          "output_type": "stream",
          "name": "stdout",
          "text": [
            "1 \n",
            "3 3 \n",
            "5 5 5 \n",
            "7 7 7 7 \n",
            "9 9 9 9 9 \n"
          ]
        }
      ]
    },
    {
      "cell_type": "code",
      "source": [
        "\"\"\"\n",
        "l.\n",
        "\n",
        "1\n",
        "2 1\n",
        "3 2 1\n",
        "4 3 2 1\n",
        "5 4 3 2 1\n",
        "\n",
        "\"\"\"\n",
        "n = 5\n",
        "for i in range(1, n+1):\n",
        "    for j in range(i, 0, -1):\n",
        "        print(j, end=' ')\n",
        "    print()\n"
      ],
      "metadata": {
        "colab": {
          "base_uri": "https://localhost:8080/"
        },
        "id": "91v9rIMk1Fn0",
        "outputId": "cc635b31-3204-4e8c-f6f9-d9bf8135a1eb"
      },
      "id": "91v9rIMk1Fn0",
      "execution_count": null,
      "outputs": [
        {
          "output_type": "stream",
          "name": "stdout",
          "text": [
            "1 \n",
            "2 1 \n",
            "3 2 1 \n",
            "4 3 2 1 \n",
            "5 4 3 2 1 \n"
          ]
        }
      ]
    },
    {
      "cell_type": "code",
      "source": [
        "\"\"\"\n",
        "m.\n",
        "\n",
        "1\n",
        "2 4\n",
        "3 6 9\n",
        "4 8 12 16\n",
        "5 10 15 20 25\n",
        "\n",
        "\"\"\"\n",
        "\n",
        "n = 5\n",
        "for i in range(1, n+1):\n",
        "    for j in range(1, i+1):\n",
        "        print(i*j, end=' ')\n",
        "    print()"
      ],
      "metadata": {
        "colab": {
          "base_uri": "https://localhost:8080/"
        },
        "id": "6zSyPzEt1OZW",
        "outputId": "f946375a-94f9-4cc9-d2e9-7bb1c6dca75e"
      },
      "id": "6zSyPzEt1OZW",
      "execution_count": null,
      "outputs": [
        {
          "output_type": "stream",
          "name": "stdout",
          "text": [
            "1 \n",
            "2 4 \n",
            "3 6 9 \n",
            "4 8 12 16 \n",
            "5 10 15 20 25 \n"
          ]
        }
      ]
    },
    {
      "cell_type": "code",
      "source": [
        "\"\"\"\n",
        "n.\n",
        "\n",
        "A\n",
        "B C\n",
        "D E F\n",
        "G H I J\n",
        "K L M N O\n",
        "P Q R S T U\n",
        "V W X Y Z [ \\\n",
        "\n",
        "\"\"\"\n",
        "c = ord('A')\n",
        "r_count = 7\n",
        "\n",
        "for r in range(1, r_count + 1):\n",
        "    char_list = []\n",
        "\n",
        "    for _ in range(r):\n",
        "        char = chr(c)\n",
        "        char_list.append(char)\n",
        "        c += 1\n",
        "\n",
        "    line = \" \".join(char_list)\n",
        "\n",
        "    print(line)"
      ],
      "metadata": {
        "colab": {
          "base_uri": "https://localhost:8080/"
        },
        "id": "2tyPu1gq1YxH",
        "outputId": "e2bfb8ec-ba78-4ad2-9554-6adb39a3354e"
      },
      "id": "2tyPu1gq1YxH",
      "execution_count": null,
      "outputs": [
        {
          "output_type": "stream",
          "name": "stdout",
          "text": [
            "A\n",
            "B C\n",
            "D E F\n",
            "G H I J\n",
            "K L M N O\n",
            "P Q R S T U\n",
            "V W X Y Z [ \\\n"
          ]
        }
      ]
    },
    {
      "cell_type": "code",
      "source": [
        "\"\"\"\n",
        "o.\n",
        "\n",
        "        1\n",
        "      2 1 2\n",
        "    3 2 1 2 3\n",
        "  4 3 2 1 2 3 4\n",
        "5 4 3 2 1 2 3 4 5\n",
        "\n",
        "\"\"\"\n",
        "rows = 5\n",
        "\n",
        "for i in range(1, rows + 1):\n",
        "    spaces = \"  \" * (rows - i)\n",
        "    line_output = spaces\n",
        "\n",
        "    for j in range(i, 1, -1):\n",
        "        line_output += str(j) + \" \"\n",
        "\n",
        "    for j in range(1, i + 1):\n",
        "        line_output += str(j)\n",
        "        if j < i:\n",
        "            line_output += \" \"\n",
        "\n",
        "    print(line_output)"
      ],
      "metadata": {
        "colab": {
          "base_uri": "https://localhost:8080/"
        },
        "id": "9UOeK7QG1agb",
        "outputId": "6886ba56-6a02-4a6f-da19-c6de7744c300"
      },
      "id": "9UOeK7QG1agb",
      "execution_count": null,
      "outputs": [
        {
          "output_type": "stream",
          "name": "stdout",
          "text": [
            "        1\n",
            "      2 1 2\n",
            "    3 2 1 2 3\n",
            "  4 3 2 1 2 3 4\n",
            "5 4 3 2 1 2 3 4 5\n"
          ]
        }
      ]
    }
  ],
  "metadata": {
    "kernelspec": {
      "display_name": "Python 3 (ipykernel)",
      "language": "python",
      "name": "python3"
    },
    "language_info": {
      "codemirror_mode": {
        "name": "ipython",
        "version": 3
      },
      "file_extension": ".py",
      "mimetype": "text/x-python",
      "name": "python",
      "nbconvert_exporter": "python",
      "pygments_lexer": "ipython3",
      "version": "3.9.17"
    },
    "colab": {
      "provenance": []
    }
  },
  "nbformat": 4,
  "nbformat_minor": 5
}