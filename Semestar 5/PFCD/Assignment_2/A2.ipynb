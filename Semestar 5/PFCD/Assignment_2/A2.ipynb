{
 "cells": [
  {
   "cell_type": "markdown",
   "id": "ee00c0cd-1a0a-4807-971d-34520f6bb747",
   "metadata": {},
   "source": [
    "# 1. Write a program such that Python will ask you if it is raining or not. If your answer is ”yes”, Python will say ”Carry an umbrella”. If you type anything else, Python will say ”Bye”."
   ]
  },
  {
   "cell_type": "code",
   "execution_count": 10,
   "id": "bab941da-9c51-4fdd-a44e-24f30f718b78",
   "metadata": {},
   "outputs": [
    {
     "name": "stdin",
     "output_type": "stream",
     "text": [
      "Is it raining (yes/no): yes\n"
     ]
    },
    {
     "name": "stdout",
     "output_type": "stream",
     "text": [
      "Cary an umbrella\n"
     ]
    }
   ],
   "source": [
    "con=input(\"Is it raining (yes/no):\")\n",
    "if con == 'yes':\n",
    "    print(\"Cary an umbrella\")\n",
    "else:\n",
    "    print(\"Bye\")"
   ]
  },
  {
   "cell_type": "markdown",
   "id": "cfd273db-a3f5-4d05-8a4a-1dc588c795ec",
   "metadata": {},
   "source": [
    "## 2. Write a program such that Python will ask you if it is raining or not. If your answer is ”yes”, Python will say ”Carry an umbrella”. If you say ”no”, Python will say ”No need to carry an umbrella”. If you type anything else, Python will say ”Bye”."
   ]
  },
  {
   "cell_type": "code",
   "execution_count": 12,
   "id": "59e12b6c-3216-4a32-b443-5bbfad4de550",
   "metadata": {},
   "outputs": [
    {
     "name": "stdin",
     "output_type": "stream",
     "text": [
      "Is it raining (yes/no): no\n"
     ]
    },
    {
     "name": "stdout",
     "output_type": "stream",
     "text": [
      "No need to carry an umbrella\n"
     ]
    }
   ],
   "source": [
    "con=input(\"Is it raining (yes/no):\")\n",
    "if con == 'yes':\n",
    "    print(\"Cary an umbrella\")\n",
    "elif con == 'no':\n",
    "    print(\"No need to carry an umbrella\")\n",
    "else:\n",
    "    print(\"Bye\")"
   ]
  },
  {
  "cell_type": "markdown",
  "id": "25162022-3d9b-46de-b672-cd590423acd5",
  "metadata": {},
  "source": [
    "marks = float(input(\"Enter your mark (0-100): \"))\n",
    "assert 0 <= marks <= 100, \"Marks must be between 0 and 100.\"\n",
    "\n",
    "if marks >= 90:\n",
    "    print(\"Grade : A\\nExcellent\")\n",
    "elif marks >= 80:\n",
    "    print(\"Grade : B\\nGood\")\n",
    "elif marks >= 70:\n",
    "    print(\"Grade : C\\nAverage\")\n",
    "elif marks >= 60:\n",
    "    print(\"Grade : D\\nNeeds Improvement\")\n",
    "else:\n",
    "    print(\"Grade : F\\nFailing\")"
  ]
}
,
  {
   "cell_type": "markdown",
   "id": "d46946ed-f868-4be3-8a0a-5872a10d36ff",
   "metadata": {},
   "source": [
    "# 4. Write a program that reads the lengths of the three sides of a triangle from the user. Then display a message that states the triangles type"
   ]
  },
  {
   "cell_type": "code",
   "execution_count": 7,
   "id": "0f1c074f-eaff-4b7d-865c-65886fb2f788",
   "metadata": {},
   "outputs": [
    {
     "name": "stdin",
     "output_type": "stream",
     "text": [
      "Enter the length od Side 1: 20\n",
      "Enter the length od Side 2: 33\n",
      "Enter the length od Side 3: 42\n"
     ]
    },
    {
     "name": "stdout",
     "output_type": "stream",
     "text": [
      "Scalene Triangle\n"
     ]
    }
   ],
   "source": [
    "s1= float (input(\"Enter the length of Side 1:\"))\n",
    "s2= float (input(\"Enter the length of Side 2:\"))\n",
    "s3= float (input(\"Enter the length of Side 3:\"))\n",
    "\n",
    "if s1+s2> s3 and s2+s3 >s1  and s1+s3 >s2:\n",
    "    if s1 == s2 == s3:\n",
    "        (\"Equilateral Triangle\")\n",
    "    elif s1 == s2 or s1 == s3 or s2 == s3:\n",
    "        print(\"Isosceles Triangle\")\n",
    "    else:\n",
    "        print(\"Scalene Triangle\")\n",
    "else:\n",
    "    print(\"Invalid Triangle!!\")"
   ]
  },
  {
   "cell_type": "markdown",
   "id": "d349e218-302c-4a78-8020-1a4035ceab37",
   "metadata": {},
   "source": [
    "# 5. Write a program that takes an integer input from the user and tells the user whether the number is even or odd."
   ]
  },
  {
   "cell_type": "code",
   "execution_count": 9,
   "id": "9500abb3-0610-45ee-8c7b-e1ab17c188fa",
   "metadata": {},
   "outputs": [
    {
     "name": "stdin",
     "output_type": "stream",
     "text": [
      "Enter a number: 20\n"
     ]
    },
    {
     "name": "stdout",
     "output_type": "stream",
     "text": [
      "Even\n"
     ]
    }
   ],
   "source": [
    "no = int (input(\"Enter a number:\"))\n",
    "if no%2==0:\n",
    "    print(\"Even\")\n",
    "else:\n",
    "    print(\"Odd\")"
   ]
  },
  {
   "cell_type": "markdown",
   "id": "b0f1517e-c337-4521-8952-247fb16b851f",
   "metadata": {},
   "source": [
    "# 6. Write a program that takes a year as input and determines whether it is a leap year or not."
   ]
  },
  {
   "cell_type": "code",
   "execution_count": 18,
   "id": "d64de147-6f3b-43c0-a1a3-d825de9bcc90",
   "metadata": {},
   "outputs": [
    {
     "name": "stdin",
     "output_type": "stream",
     "text": [
      "Enter the year 2004\n"
     ]
    },
    {
     "name": "stdout",
     "output_type": "stream",
     "text": [
      "It's a leap year\n"
     ]
    }
   ],
   "source": [
    "year = int(input(\"Enter the year\"))\n",
    "if (year % 4 == 0 and year % 100 != 0)  or (year % 400 == 0):\n",
    "    print(\"It's a leap year\")\n",
    "else:\n",
    "    print(\"Not a leap year!\")"
   ]
  },
  {
   "cell_type": "markdown",
   "id": "229b8d21-09fd-40af-8aa2-18dcfa14e711",
   "metadata": {},
   "source": [
    "# 7. Write a program that takes an integer input from the user and prints whether it is prime or not."
   ]
  },
  {
   "cell_type": "code",
   "execution_count": 28,
   "id": "c84ae00c-09ea-4534-a656-cc4aa311f249",
   "metadata": {},
   "outputs": [
    {
     "name": "stdin",
     "output_type": "stream",
     "text": [
      "Enter a number:  20\n"
     ]
    },
    {
     "name": "stdout",
     "output_type": "stream",
     "text": [
      "20 is not prime\n"
     ]
    }
   ],
   "source": [
    "number = int(input(\"Enter a number: \"))\n",
    "\n",
    "if number <= 1:\n",
    "    print(f\"{number} is not prime\")\n",
    "else:\n",
    "    prime = True\n",
    "    \n",
    "    for i in range(2, number):\n",
    "        if number % i == 0:  \n",
    "            prime = False    \n",
    "            break            \n",
    "    \n",
    "    if prime:\n",
    "        print(f\"{number} is prime\")\n",
    "    else:\n",
    "        print(f\"{number} is not prime\")"
   ]
  },
  {
   "cell_type": "markdown",
   "id": "78808054-a772-497f-b92a-b87361fa0aae",
   "metadata": {
    "tags": []
   },
   "source": [
    "# 8. In line with the previous question, write a program to compute the sum of all prime numbers below a user input number, e.g., Sum of all prime numbers less than 20 is 77."
   ]
  },
  {
   "cell_type": "code",
   "execution_count": 29,
   "id": "ab068490-6dee-43c0-92b4-003345409ae5",
   "metadata": {},
   "outputs": [
    {
     "name": "stdin",
     "output_type": "stream",
     "text": [
      "Enter a number:  20\n"
     ]
    },
    {
     "name": "stdout",
     "output_type": "stream",
     "text": [
      "Sum of all prime numbers less than 20 is : 77\n"
     ]
    }
   ],
   "source": [
    "number = int(input(\"Enter a number: \"))\n",
    "total = 0\n",
    "for num in range(2, number):\n",
    "    prime = True\n",
    "    for i in range(2, num):\n",
    "        if num % i == 0:\n",
    "            prime = False\n",
    "            break\n",
    "    if prime:\n",
    "        total = total + num\n",
    "print(f\"Sum of all prime numbers less than {number} is : {total}\")"
   ]
  },
  {
   "cell_type": "markdown",
   "id": "58901c92-b640-45e3-a929-01bbba095c41",
   "metadata": {},
   "source": [
    "# 9. Write a program that takes an integer input from the user. Use a while loop to continuously prompt for input until the user enters a positive number. If the final number is even, multiply it by 2 and if it is odd, square it. Display the results at the end."
   ]
  },
  {
   "cell_type": "code",
   "execution_count": 30,
   "id": "8594f143-6438-4200-bf1f-3c9a14d35a7f",
   "metadata": {},
   "outputs": [
    {
     "name": "stdin",
     "output_type": "stream",
     "text": [
      "Enter a positive number:  -2\n",
      "Nope, enter a positive number:  -2\n",
      "Nope, enter a positive number:  2\n"
     ]
    },
    {
     "name": "stdout",
     "output_type": "stream",
     "text": [
      "2 is even, so I multiplied it by 2 to get 4\n"
     ]
    }
   ],
   "source": [
    "no = int(input(\"Enter a positive number: \"))\n",
    "while no <= 0:\n",
    "    no = int(input(\"Nope, enter a positive number: \"))\n",
    "\n",
    "if no % 2 == 0:\n",
    "    result = no * 2\n",
    "    print(f\"{no} is even, so I multiplied it by 2 to get {result}\")\n",
    "else:\n",
    "    result = no * no\n",
    "    print(f\"{no} is odd, so I squared it to get {result}\")"
   ]
  },
  {
   "cell_type": "markdown",
   "id": "0aaa8c04-5205-4ac7-93c9-2d35c13da772",
   "metadata": {},
   "source": [
    "# 10. Write a program to find the remainder when a user input number is divided by 5 using match case. If the user inputs a non-integer, Python should say ”Invalid input” and stop."
   ]
  }
 ],
 "metadata": {
  "kernelspec": {
   "display_name": "Python 3 (ipykernel)",
   "language": "python",
   "name": "python3"
  },
  "language_info": {
   "codemirror_mode": {
    "name": "ipython",
    "version": 3
   },
   "file_extension": ".py",
   "mimetype": "text/x-python",
   "name": "python",
   "nbconvert_exporter": "python",
   "pygments_lexer": "ipython3",
   "version": "3.9.17"
  }
 },
 "nbformat": 4,
 "nbformat_minor": 5
}
