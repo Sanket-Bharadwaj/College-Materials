{
  "cells": [
    {
      "cell_type": "markdown",
      "id": "ee00c0cd-1a0a-4807-971d-34520f6bb747",
      "metadata": {
        "id": "ee00c0cd-1a0a-4807-971d-34520f6bb747"
      },
      "source": [
        "# 1. Write a program such that Python will ask you if it is raining or not. If your answer is ”yes”, Python will say ”Carry an umbrella”. If you type anything else, Python will say ”Bye”."
      ]
    },
    {
      "cell_type": "code",
      "execution_count": null,
      "id": "bab941da-9c51-4fdd-a44e-24f30f718b78",
      "metadata": {
        "colab": {
          "base_uri": "https://localhost:8080/"
        },
        "id": "bab941da-9c51-4fdd-a44e-24f30f718b78",
        "outputId": "9b07416b-6a70-46c8-832d-dda5d7444032"
      },
      "outputs": [
        {
          "output_type": "stream",
          "name": "stdout",
          "text": [
            "Is it raining (yes/no):yes\n",
            "Cary an umbrella\n"
          ]
        }
      ],
      "source": [
        "con=input(\"Is it raining (yes/no):\")\n",
        "if con == 'yes':\n",
        "    print(\"Cary an umbrella\")\n",
        "else:\n",
        "    print(\"Bye\")"
      ]
    },
    {
      "cell_type": "markdown",
      "id": "cfd273db-a3f5-4d05-8a4a-1dc588c795ec",
      "metadata": {
        "id": "cfd273db-a3f5-4d05-8a4a-1dc588c795ec"
      },
      "source": [
        "## 2. Write a program such that Python will ask you if it is raining or not. If your answer is ”yes”, Python will say ”Carry an umbrella”. If you say ”no”, Python will say ”No need to carry an umbrella”. If you type anything else, Python will say ”Bye”."
      ]
    },
    {
      "cell_type": "code",
      "execution_count": null,
      "id": "59e12b6c-3216-4a32-b443-5bbfad4de550",
      "metadata": {
        "colab": {
          "base_uri": "https://localhost:8080/"
        },
        "id": "59e12b6c-3216-4a32-b443-5bbfad4de550",
        "outputId": "51c4a7fd-fb99-4015-ba40-20915ec906e6"
      },
      "outputs": [
        {
          "output_type": "stream",
          "name": "stdout",
          "text": [
            "Is it raining (yes/no):no\n",
            "No need to carry an umbrella\n"
          ]
        }
      ],
      "source": [
        "con=input(\"Is it raining (yes/no):\")\n",
        "if con == 'yes':\n",
        "    print(\"Cary an umbrella\")\n",
        "elif con == 'no':\n",
        "    print(\"No need to carry an umbrella\")\n",
        "else:\n",
        "    print(\"Bye\")"
      ]
    },
    {
      "cell_type": "markdown",
      "id": "7efeae0a-c2b0-45ba-a9f8-985858d9ed87",
      "metadata": {
        "id": "7efeae0a-c2b0-45ba-a9f8-985858d9ed87"
      },
      "source": [
        "# 3. Write a Python program to calculate a student’s letter grade based on their numeric score using the following scale: A (90–100), B (80–89), C (70–79), D (60–69), and F (below 60). Additionally, provide a comment for each grade: ”Excellent” for A, ”Good” for B, ”Average” for C, ”Needs Improvement” for D, and ”Failing” for F."
      ]
    },
    {
      "cell_type": "code",
      "source": [
        "score = float(input(\"Enter the student's numeric score: \"))\n",
        "\n",
        "if 90 <= score <= 100:\n",
        "    print(\"Grade: A, Comment: Excellent\")\n",
        "elif 80 <= score < 90:\n",
        "    print(\"Grade: B, Comment: Good\")\n",
        "elif 70 <= score < 80:\n",
        "    print(\"Grade: C, Comment: Average\")\n",
        "elif 60 <= score < 70:\n",
        "    print(\"Grade: D, Comment: Needs Improvement\")\n",
        "elif 0 <= score < 60:\n",
        "    print(\"Grade: F, Comment: Failing\")\n",
        "else:\n",
        "    print(\"Invalid score entered.\")"
      ],
      "metadata": {
        "colab": {
          "base_uri": "https://localhost:8080/"
        },
        "id": "-KTA8C_JvfdG",
        "outputId": "f4620e67-232f-41d5-bc9f-aa6dfb30b829"
      },
      "id": "-KTA8C_JvfdG",
      "execution_count": null,
      "outputs": [
        {
          "output_type": "stream",
          "name": "stdout",
          "text": [
            "Enter the student's numeric score: 67\n",
            "Grade: D, Comment: Needs Improvement\n"
          ]
        }
      ]
    },
    {
      "cell_type": "markdown",
      "id": "d46946ed-f868-4be3-8a0a-5872a10d36ff",
      "metadata": {
        "id": "d46946ed-f868-4be3-8a0a-5872a10d36ff"
      },
      "source": [
        "# 4. Write a program that reads the lengths of the three sides of a triangle from the user. Then display a message that states the triangles type"
      ]
    },
    {
      "cell_type": "code",
      "execution_count": null,
      "id": "0f1c074f-eaff-4b7d-865c-65886fb2f788",
      "metadata": {
        "colab": {
          "base_uri": "https://localhost:8080/"
        },
        "id": "0f1c074f-eaff-4b7d-865c-65886fb2f788",
        "outputId": "1144e078-90c7-433e-8906-07a3fa8733d6"
      },
      "outputs": [
        {
          "output_type": "stream",
          "name": "stdout",
          "text": [
            "Enter the length of Side 1:20\n",
            "Enter the length of Side 2:20\n",
            "Enter the length of Side 3:30\n",
            "Isosceles Triangle\n"
          ]
        }
      ],
      "source": [
        "s1= float (input(\"Enter the length of Side 1:\"))\n",
        "s2= float (input(\"Enter the length of Side 2:\"))\n",
        "s3= float (input(\"Enter the length of Side 3:\"))\n",
        "\n",
        "if s1+s2> s3 and s2+s3 >s1  and s1+s3 >s2:\n",
        "    if s1 == s2 == s3:\n",
        "        (\"Equilateral Triangle\")\n",
        "    elif s1 == s2 or s1 == s3 or s2 == s3:\n",
        "        print(\"Isosceles Triangle\")\n",
        "    else:\n",
        "        print(\"Scalene Triangle\")\n",
        "else:\n",
        "    print(\"Invalid Triangle!!\")"
      ]
    },
    {
      "cell_type": "markdown",
      "id": "d349e218-302c-4a78-8020-1a4035ceab37",
      "metadata": {
        "id": "d349e218-302c-4a78-8020-1a4035ceab37"
      },
      "source": [
        "# 5. Write a program that takes an integer input from the user and tells the user whether the number is even or odd."
      ]
    },
    {
      "cell_type": "code",
      "execution_count": null,
      "id": "9500abb3-0610-45ee-8c7b-e1ab17c188fa",
      "metadata": {
        "colab": {
          "base_uri": "https://localhost:8080/"
        },
        "id": "9500abb3-0610-45ee-8c7b-e1ab17c188fa",
        "outputId": "3316f03c-53f5-4413-b14e-9ddeb1d1f2ab"
      },
      "outputs": [
        {
          "output_type": "stream",
          "name": "stdout",
          "text": [
            "Enter a number:14\n",
            "Even\n"
          ]
        }
      ],
      "source": [
        "no = int (input(\"Enter a number:\"))\n",
        "if no%2==0:\n",
        "    print(\"Even\")\n",
        "else:\n",
        "    print(\"Odd\")"
      ]
    },
    {
      "cell_type": "markdown",
      "id": "b0f1517e-c337-4521-8952-247fb16b851f",
      "metadata": {
        "id": "b0f1517e-c337-4521-8952-247fb16b851f"
      },
      "source": [
        "# 6. Write a program that takes a year as input and determines whether it is a leap year or not."
      ]
    },
    {
      "cell_type": "code",
      "execution_count": null,
      "id": "d64de147-6f3b-43c0-a1a3-d825de9bcc90",
      "metadata": {
        "colab": {
          "base_uri": "https://localhost:8080/"
        },
        "id": "d64de147-6f3b-43c0-a1a3-d825de9bcc90",
        "outputId": "1d553d0d-d182-4ff9-8218-0a7df1473409"
      },
      "outputs": [
        {
          "output_type": "stream",
          "name": "stdout",
          "text": [
            "Enter the year2000\n",
            "It's a leap year\n"
          ]
        }
      ],
      "source": [
        "year = int(input(\"Enter the year\"))\n",
        "if (year % 4 == 0 and year % 100 != 0)  or (year % 400 == 0):\n",
        "    print(\"It's a leap year\")\n",
        "else:\n",
        "    print(\"Not a leap year!\")"
      ]
    },
    {
      "cell_type": "markdown",
      "id": "229b8d21-09fd-40af-8aa2-18dcfa14e711",
      "metadata": {
        "id": "229b8d21-09fd-40af-8aa2-18dcfa14e711"
      },
      "source": [
        "# 7. Write a program that takes an integer input from the user and prints whether it is prime or not."
      ]
    },
    {
      "cell_type": "code",
      "execution_count": null,
      "id": "c84ae00c-09ea-4534-a656-cc4aa311f249",
      "metadata": {
        "colab": {
          "base_uri": "https://localhost:8080/"
        },
        "id": "c84ae00c-09ea-4534-a656-cc4aa311f249",
        "outputId": "0113012a-f492-4b3d-80cf-0656d91e1914"
      },
      "outputs": [
        {
          "output_type": "stream",
          "name": "stdout",
          "text": [
            "Enter a number: 14\n",
            "14 is not prime\n"
          ]
        }
      ],
      "source": [
        "number = int(input(\"Enter a number: \"))\n",
        "\n",
        "if number <= 1:\n",
        "    print(f\"{number} is not prime\")\n",
        "else:\n",
        "    prime = True\n",
        "\n",
        "    for i in range(2, number):\n",
        "        if number % i == 0:\n",
        "            prime = False\n",
        "            break\n",
        "\n",
        "    if prime:\n",
        "        print(f\"{number} is prime\")\n",
        "    else:\n",
        "        print(f\"{number} is not prime\")"
      ]
    },
    {
      "cell_type": "markdown",
      "id": "78808054-a772-497f-b92a-b87361fa0aae",
      "metadata": {
        "tags": [],
        "id": "78808054-a772-497f-b92a-b87361fa0aae"
      },
      "source": [
        "# 8. In line with the previous question, write a program to compute the sum of all prime numbers below a user input number, e.g., Sum of all prime numbers less than 20 is 77."
      ]
    },
    {
      "cell_type": "code",
      "execution_count": null,
      "id": "ab068490-6dee-43c0-92b4-003345409ae5",
      "metadata": {
        "colab": {
          "base_uri": "https://localhost:8080/"
        },
        "id": "ab068490-6dee-43c0-92b4-003345409ae5",
        "outputId": "6c21aa81-a9b6-43d0-dd92-572d2252067d"
      },
      "outputs": [
        {
          "output_type": "stream",
          "name": "stdout",
          "text": [
            "Enter a number: 14\n",
            "Sum of all prime numbers less than 14 is : 41\n"
          ]
        }
      ],
      "source": [
        "number = int(input(\"Enter a number: \"))\n",
        "total = 0\n",
        "for num in range(2, number):\n",
        "    prime = True\n",
        "    for i in range(2, num):\n",
        "        if num % i == 0:\n",
        "            prime = False\n",
        "            break\n",
        "    if prime:\n",
        "        total = total + num\n",
        "print(f\"Sum of all prime numbers less than {number} is : {total}\")"
      ]
    },
    {
      "cell_type": "markdown",
      "id": "58901c92-b640-45e3-a929-01bbba095c41",
      "metadata": {
        "id": "58901c92-b640-45e3-a929-01bbba095c41"
      },
      "source": [
        "# 9. Write a program that takes an integer input from the user. Use a while loop to continuously prompt for input until the user enters a positive number. If the final number is even, multiply it by 2 and if it is odd, square it. Display the results at the end."
      ]
    },
    {
      "cell_type": "code",
      "execution_count": null,
      "id": "8594f143-6438-4200-bf1f-3c9a14d35a7f",
      "metadata": {
        "colab": {
          "base_uri": "https://localhost:8080/"
        },
        "id": "8594f143-6438-4200-bf1f-3c9a14d35a7f",
        "outputId": "942d323f-ddb7-4d4a-cdc5-edf2c8b2891a"
      },
      "outputs": [
        {
          "output_type": "stream",
          "name": "stdout",
          "text": [
            "Enter a positive number: 14\n",
            "14 is even, so I multiplied it by 2 to get 28\n"
          ]
        }
      ],
      "source": [
        "no = int(input(\"Enter a positive number: \"))\n",
        "while no <= 0:\n",
        "    no = int(input(\"Nope, enter a positive number: \"))\n",
        "\n",
        "if no % 2 == 0:\n",
        "    result = no * 2\n",
        "    print(f\"{no} is even, so I multiplied it by 2 to get {result}\")\n",
        "else:\n",
        "    result = no * no\n",
        "    print(f\"{no} is odd, so I squared it to get {result}\")"
      ]
    },
    {
      "cell_type": "markdown",
      "id": "0aaa8c04-5205-4ac7-93c9-2d35c13da772",
      "metadata": {
        "id": "0aaa8c04-5205-4ac7-93c9-2d35c13da772"
      },
      "source": [
        "# 10. Write a program to find the remainder when a user input number is divided by 5 using match case. If the user inputs a non-integer, Python should say ”Invalid input” and stop."
      ]
    },
    {
      "cell_type": "code",
      "source": [
        "try:\n",
        "    num_str = input(\"Enter an integer: \")\n",
        "    num = int(num_str)\n",
        "\n",
        "    remainder = num % 5\n",
        "\n",
        "    match remainder:\n",
        "        case 0:\n",
        "            print(f\"The remainder when {num} is divided by 5 is 0\")\n",
        "        case 1:\n",
        "            print(f\"The remainder when {num} is divided by 5 is 1\")\n",
        "        case 2:\n",
        "            print(f\"The remainder when {num} is divided by 5 is 2\")\n",
        "        case 3:\n",
        "            print(f\"The remainder when {num} is divided by 5 is 3\")\n",
        "        case 4:\n",
        "            print(f\"The remainder when {num} is divided by 5 is 4\")\n",
        "\n",
        "except ValueError:\n",
        "    print(\"Invalid input\")"
      ],
      "metadata": {
        "colab": {
          "base_uri": "https://localhost:8080/"
        },
        "id": "51rQwUL8wBAn",
        "outputId": "f3ff9c7a-3860-4f40-e007-8bc4bd59f6ce"
      },
      "id": "51rQwUL8wBAn",
      "execution_count": null,
      "outputs": [
        {
          "output_type": "stream",
          "name": "stdout",
          "text": [
            "Enter an integer: 14\n",
            "The remainder when 14 is divided by 5 is 4\n"
          ]
        }
      ]
    },
    {
      "cell_type": "markdown",
      "source": [
        "# 11. Write a program that functions as a simple calculator. It should continuously accept a pair of numbers and an operator (+, -, *, /) from the user and print the result. If the user types ”exit”, the program quits. Otherwise the program continues asking for a pair of input numbers."
      ],
      "metadata": {
        "id": "svhU4kDOwRX9"
      },
      "id": "svhU4kDOwRX9"
    },
    {
      "cell_type": "code",
      "source": [
        "while True:\n",
        "    user_input = input(\"Type 'exit' to quit or press Enter to continue: \")\n",
        "    if user_input.lower() == 'exit':\n",
        "        break\n",
        "\n",
        "    try:\n",
        "        num1 = float(input(\"Enter the first number: \"))\n",
        "        operator = input(\"Enter the operator (+, -, *, /): \")\n",
        "        num2 = float(input(\"Enter the second number: \"))\n",
        "\n",
        "        if operator == '+':\n",
        "            result = num1 + num2\n",
        "        elif operator == '-':\n",
        "            result = num1 - num2\n",
        "        elif operator == '*':\n",
        "            result = num1 * num2\n",
        "        elif operator == '/':\n",
        "            if num2 == 0:\n",
        "                print(\"Error: Division by zero\")\n",
        "                continue\n",
        "            result = num1 / num2\n",
        "        else:\n",
        "            print(\"Invalid operator\")\n",
        "            continue\n",
        "\n",
        "        print(f\"Result: {result}\")\n",
        "\n",
        "    except ValueError:\n",
        "        print(\"Invalid input. Please enter valid numbers.\")\n",
        "    except Exception as e:\n",
        "        print(f\"An error occurred: {e}\")"
      ],
      "metadata": {
        "colab": {
          "base_uri": "https://localhost:8080/"
        },
        "id": "P967VwvqwhSM",
        "outputId": "36baf688-94ae-46bc-9473-2ab5930677af"
      },
      "id": "P967VwvqwhSM",
      "execution_count": null,
      "outputs": [
        {
          "name": "stdout",
          "output_type": "stream",
          "text": [
            "Type 'exit' to quit or press Enter to continue: \n",
            "Enter the first number: 20\n",
            "Enter the operator (+, -, *, /): +\n",
            "Enter the second number: 20\n",
            "Result: 40.0\n",
            "Type 'exit' to quit or press Enter to continue: exit\n"
          ]
        }
      ]
    },
    {
      "cell_type": "markdown",
      "source": [
        "# 12. Write a program to find out the mean, median, and mode of 1, 2, 3, 2, 3, 4, 4, 4, 5, 4, 5, 6"
      ],
      "metadata": {
        "id": "EFLLuz8YMX-Y"
      },
      "id": "EFLLuz8YMX-Y"
    },
    {
      "cell_type": "code",
      "source": [
        "data = [1, 2, 3, 2, 3, 4, 4, 4, 5, 4, 5, 6]\n",
        "\n",
        "total = 0\n",
        "count = 0\n",
        "for i in data:\n",
        "    total += i\n",
        "    count += 1\n",
        "mean = total / count\n",
        "print(f\"Mean: {mean}\")\n",
        "\n",
        "n = count\n",
        "frequency = {}\n",
        "for i in range(n):\n",
        "    for j in range(0, n - i - 1):\n",
        "        if data[j] > data[j + 1]:\n",
        "            data[j], data[j + 1] = data[j + 1], data[j]\n",
        "\n",
        "mid_index = count // 2\n",
        "if count % 2 == 0:\n",
        "    median = (data[mid_index - 1] + data[mid_index]) / 2\n",
        "else:\n",
        "    median = data[mid_index]\n",
        "print(f\"Median: {median}\")\n",
        "\n",
        "max_frequency = 0\n",
        "mode = []\n",
        "frequency = {}\n",
        "for i in data:\n",
        "    if i in frequency:\n",
        "        frequency[i] += 1\n",
        "    else:\n",
        "        frequency[i] = 1\n",
        "\n",
        "for i in frequency:\n",
        "    freq = frequency[i]\n",
        "    if freq > max_frequency:\n",
        "        max_frequency = freq\n",
        "        mode = [i]\n",
        "    elif freq == max_frequency and i not in mode:\n",
        "        mode.append(i)\n",
        "\n",
        "print(f\"Mode: {mode}\")"
      ],
      "metadata": {
        "colab": {
          "base_uri": "https://localhost:8080/"
        },
        "id": "64U4Gm2FM8bK",
        "outputId": "479ef10f-ce3b-4a96-a980-90d52588a9fc"
      },
      "id": "64U4Gm2FM8bK",
      "execution_count": 19,
      "outputs": [
        {
          "output_type": "stream",
          "name": "stdout",
          "text": [
            "Mean: 3.5833333333333335\n",
            "Median: 4.0\n",
            "Mode: [4]\n"
          ]
        }
      ]
    },
    {
      "cell_type": "markdown",
      "source": [
        "# 13. Positions on a chess board are identified by a letter and a number. The letter identifies the column, while the number identifies the row, as shown below: Write a program that reads a position from the user and identify the proper color of the respective box\n",
        "\n",
        "![image.png](data:image/png;base64,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)"
      ],
      "metadata": {
        "id": "GVG2TLQCRRqA"
      },
      "id": "GVG2TLQCRRqA"
    },
    {
      "cell_type": "code",
      "source": [
        "position = input('Enter the chessboard position (e.g. a1, h8): ')\n",
        "\n",
        "column = position[0]\n",
        "row = position[1]\n",
        "\n",
        "if column == 'a':\n",
        "    col_num = 1\n",
        "elif column == 'b':\n",
        "    col_num = 2\n",
        "elif column == 'c':\n",
        "    col_num = 3\n",
        "elif column == 'd':\n",
        "    col_num = 4\n",
        "elif column == 'e':\n",
        "    col_num = 5\n",
        "elif column == 'f':\n",
        "    col_num = 6\n",
        "elif column == 'g':\n",
        "    col_num = 7\n",
        "elif column == 'h':\n",
        "    col_num = 8\n",
        "\n",
        "row_num = int(row)\n",
        "\n",
        "if (col_num + row_num) % 2 == 0:\n",
        "    print('Black')\n",
        "else:\n",
        "    print('White')\n"
      ],
      "metadata": {
        "colab": {
          "base_uri": "https://localhost:8080/"
        },
        "id": "G7mQ1AG4Sm62",
        "outputId": "24752958-0cf2-48b7-864f-3c03de8b764d"
      },
      "id": "G7mQ1AG4Sm62",
      "execution_count": 21,
      "outputs": [
        {
          "output_type": "stream",
          "name": "stdout",
          "text": [
            "Enter the chessboard position (e.g. a1, h8): a4\n",
            "White\n"
          ]
        }
      ]
    },
    {
      "cell_type": "markdown",
      "source": [
        "# 14. Write a Python program that calculates the final cost of a hotel booking based on the room type\n",
        "\n",
        "*   Standard: $100/night\n",
        "\n",
        "*   Deluxe: $150/night\n",
        "\n",
        "*   Suite: $250/night\n",
        "\n",
        "## the length of stay (10% discount for >3 nights, 20% discount for >7 nights), the season (20% increase during peak season, 15% decrease during the off-season), and whether the customer is a loyalty member (5% additional discount). The program should output the final booking cost after applying all relevant discounts and adjustments."
      ],
      "metadata": {
        "id": "-e0HdTQtUWTM"
      },
      "id": "-e0HdTQtUWTM"
    },
    {
      "cell_type": "code",
      "source": [
        "room_types = [\"Standard\", \"Deluxe\", \"Suite\"]\n",
        "rates = [100, 150, 250]\n",
        "seasons = [\"Peak\", \"Off-season\", \"Other\"]\n",
        "\n",
        "while True:\n",
        "    room_in = input(\"Enter room type (Standard, Deluxe, Suite): \")\n",
        "    valid_room = False\n",
        "    for i in range(len(room_types)):\n",
        "        if room_in.lower() == room_types[i].lower():\n",
        "            rate_per_night = rates[i]\n",
        "            valid_room = True\n",
        "            break\n",
        "    if valid_room:\n",
        "        break\n",
        "    else:\n",
        "        print(\"Invalid room type. Please enter Standard, Deluxe, or Suite.\")\n",
        "\n",
        "while True:\n",
        "    try:\n",
        "        nights = int(input(\"Enter the number of nights: \"))\n",
        "        if nights > 0:\n",
        "            break\n",
        "        else:\n",
        "            print(\"Number of nights must be a positive integer.\")\n",
        "    except ValueError:\n",
        "        print(\"Invalid input. Please enter a valid integer for the number of nights.\")\n",
        "\n",
        "while True:\n",
        "    season_in = input(\"Enter the season (Peak, Off-season, Other): \")\n",
        "    season_lower = season_in.lower()\n",
        "    is_valid_season = False\n",
        "    for valid_season in seasons:\n",
        "        if season_lower == valid_season.lower():\n",
        "            season = valid_season.capitalize()\n",
        "            is_valid_season = True\n",
        "            break\n",
        "    if is_valid_season:\n",
        "        break\n",
        "    else:\n",
        "        print(\"Invalid season. Please enter Peak, Off-season, or Other.\")\n",
        "\n",
        "while True:\n",
        "    loyalty_in = input(\"Is the customer a loyalty member? (yes/no): \")\n",
        "    loyalty_lower = loyalty_in.lower()\n",
        "    if loyalty_lower == 'yes' or loyalty_lower == 'no':\n",
        "        is_loyalty = loyalty_lower == 'yes'\n",
        "        break\n",
        "    else:\n",
        "        print(\"Invalid input. Please enter 'yes' or 'no'.\")\n",
        "\n",
        "base = rate_per_night * nights\n",
        "\n",
        "stay_disc_rate = 0\n",
        "if nights > 7:\n",
        "    stay_disc_rate = 0.20\n",
        "elif nights > 3:\n",
        "    stay_disc_rate = 0.10\n",
        "stay_disc_amt = base * stay_disc_rate\n",
        "cost_after_stay = base - stay_disc_amt\n",
        "\n",
        "season_adj_rate = 0\n",
        "if season == \"Peak\":\n",
        "    season_adj_rate = 0.20\n",
        "elif season == \"Off-season\":\n",
        "    season_adj_rate = -0.15\n",
        "season_adj = cost_after_stay * season_adj_rate\n",
        "cost_after_season = cost_after_stay + season_adj\n",
        "\n",
        "loyalty_disc_rate = 0\n",
        "if is_loyalty:\n",
        "    loyalty_disc_rate = 0.05\n",
        "loyalty_disc = cost_after_season * loyalty_disc_rate\n",
        "final_cost = cost_after_season - loyalty_disc\n",
        "\n",
        "print(f\"The final booking cost is: ${final_cost:.2f}\")"
      ],
      "metadata": {
        "colab": {
          "base_uri": "https://localhost:8080/"
        },
        "id": "m7ox-b-5Uiqy",
        "outputId": "cc662099-8b74-492d-b18d-6cd886bbe48e"
      },
      "id": "m7ox-b-5Uiqy",
      "execution_count": 23,
      "outputs": [
        {
          "output_type": "stream",
          "name": "stdout",
          "text": [
            "Enter room type (Standard, Deluxe, Suite): Deluxe\n",
            "Enter the number of nights: 2\n",
            "Enter the season (Peak, Off-season, Other): Off-season\n",
            "Is the customer a loyalty member? (yes/no): yes\n",
            "The final booking cost is: $242.25\n"
          ]
        }
      ]
    },
    {
      "cell_type": "markdown",
      "source": [
        "# 15. Write a program to determine whether a given natural number is a perfect number. A natural numberis said to be a perfect number if it is the sum of its divisors. For Example, 6 is a perfect number because 6 = 1+2+3, but 15 is not a perfect number because 15!= 1+3+5."
      ],
      "metadata": {
        "id": "dVpm7hgFWIH8"
      },
      "id": "dVpm7hgFWIH8"
    },
    {
      "cell_type": "code",
      "source": [
        "num = int(input(\"Enter a natural number: \"))\n",
        "\n",
        "if num <= 0:\n",
        "    print(\"Please enter a natural number (a positive integer).\")\n",
        "else:\n",
        "    sum_of_divisors = 0\n",
        "    for i in range(1, num):\n",
        "        if num % i == 0:\n",
        "            sum_of_divisors += i\n",
        "\n",
        "    if sum_of_divisors == num:\n",
        "        print(f\"{num} is a perfect number.\")\n",
        "    else:\n",
        "        print(f\"{num} is not a perfect number.\")"
      ],
      "metadata": {
        "colab": {
          "base_uri": "https://localhost:8080/"
        },
        "id": "mQaeEGpDWOIi",
        "outputId": "de6a5ae9-cb7a-4fd3-aa8b-3db545d67a25"
      },
      "id": "mQaeEGpDWOIi",
      "execution_count": 24,
      "outputs": [
        {
          "output_type": "stream",
          "name": "stdout",
          "text": [
            "Enter a natural number: 14\n",
            "14 is not a perfect number.\n"
          ]
        }
      ]
    },
    {
      "cell_type": "code",
      "source": [],
      "metadata": {
        "id": "z41V0tVxW2G9"
      },
      "id": "z41V0tVxW2G9",
      "execution_count": null,
      "outputs": []
    }
  ],
  "metadata": {
    "kernelspec": {
      "display_name": "Python 3 (ipykernel)",
      "language": "python",
      "name": "python3"
    },
    "language_info": {
      "codemirror_mode": {
        "name": "ipython",
        "version": 3
      },
      "file_extension": ".py",
      "mimetype": "text/x-python",
      "name": "python",
      "nbconvert_exporter": "python",
      "pygments_lexer": "ipython3",
      "version": "3.9.17"
    },
    "colab": {
      "provenance": []
    }
  },
  "nbformat": 4,
  "nbformat_minor": 5
}