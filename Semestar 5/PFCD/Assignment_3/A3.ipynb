{
  "nbformat": 4,
  "nbformat_minor": 0,
  "metadata": {
    "colab": {
      "provenance": []
    },
    "kernelspec": {
      "name": "python3",
      "display_name": "Python 3"
    },
    "language_info": {
      "name": "python"
    }
  },
  "cells": [
    {
      "cell_type": "markdown",
      "source": [
        "# 1. Write a Python function to find the first, second and third greatest digit in a number.\n",
        "### Sample Number: 6328\n",
        "### Expected Output: 8, 6, 3"
      ],
      "metadata": {
        "id": "0wKUNhQySG9j"
      }
    },
    {
      "cell_type": "code",
      "metadata": {
        "colab": {
          "base_uri": "https://localhost:8080/"
        },
        "id": "01a20d75",
        "outputId": "cb81dcad-251f-4748-a29f-ae0be1e4583c"
      },
      "source": [
        "num = int(input(\"Enter a number: \"))\n",
        "num = str(num)\n",
        "def find_greatest_digits(number_str):\n",
        "    digits = sorted(list(set(number_str)), reverse=True)\n",
        "    if len(digits) >= 3:\n",
        "        return digits[0], digits[1], digits[2]\n",
        "    else:\n",
        "        return None\n",
        "\n",
        "greatest_digits = find_greatest_digits(num)\n",
        "\n",
        "if greatest_digits:\n",
        "    print(f\"First greatest number is: {greatest_digits[0]}\\nSecond greatest number is: {greatest_digits[1]}\\nThird greatest digit is: {greatest_digits[2]}\")\n",
        "else:\n",
        "    print(\"The number does not have at least three distinct digits.\")"
      ],
      "execution_count": null,
      "outputs": [
        {
          "output_type": "stream",
          "name": "stdout",
          "text": [
            "Enter a number: 6328\n",
            "First greatest number is: 8\n",
            "Second greatest number is: 6\n",
            "Third greatest digit is: 3\n"
          ]
        }
      ]
    },
    {
      "cell_type": "markdown",
      "source": [
        "# 2. Find the numbers between 100 and 500, which are divisible by 3 and multiples of 5 using function in Python."
      ],
      "metadata": {
        "id": "KbHw3qIHUyWd"
      }
    },
    {
      "cell_type": "code",
      "source": [
        "def find_numbers():\n",
        "    result = []\n",
        "    for num in range(100, 501):\n",
        "        if num % 3 == 0 and num % 5 == 0:\n",
        "            result.append(num)\n",
        "    return result\n",
        "numbers = find_numbers()\n",
        "print(numbers)"
      ],
      "metadata": {
        "colab": {
          "base_uri": "https://localhost:8080/"
        },
        "id": "ZsSxJa50U2lb",
        "outputId": "989b32cf-f794-4b0b-88c7-3c6775d36c82"
      },
      "execution_count": null,
      "outputs": [
        {
          "output_type": "stream",
          "name": "stdout",
          "text": [
            "[105, 120, 135, 150, 165, 180, 195, 210, 225, 240, 255, 270, 285, 300, 315, 330, 345, 360, 375, 390, 405, 420, 435, 450, 465, 480, 495]\n"
          ]
        }
      ]
    },
    {
      "cell_type": "markdown",
      "source": [
        "# 3. Write a Python function to add the squares of the even numbers between 1 and 50 (both included)."
      ],
      "metadata": {
        "id": "yrREg4w5VhM7"
      }
    },
    {
      "cell_type": "code",
      "source": [
        "def sum_of_even_squares():\n",
        "    total = 0\n",
        "    for num in range(1, 51):\n",
        "        if num % 2 == 0:\n",
        "            total += num ** 2\n",
        "    return total\n",
        "\n",
        "print(sum_of_even_squares())"
      ],
      "metadata": {
        "colab": {
          "base_uri": "https://localhost:8080/"
        },
        "id": "_LEv9OMMVd3m",
        "outputId": "283fd2ed-3200-4588-e5a1-950f689ee7d1"
      },
      "execution_count": null,
      "outputs": [
        {
          "output_type": "stream",
          "name": "stdout",
          "text": [
            "22100\n"
          ]
        }
      ]
    },
    {
      "cell_type": "markdown",
      "source": [
        "# 4. Write a function that takes a string as input and returns the reversed string."
      ],
      "metadata": {
        "id": "_Ns7zSy7Xgst"
      }
    },
    {
      "cell_type": "code",
      "source": [
        "string = input(\"Enter the string: \")\n",
        "def rev_func(string):\n",
        "    reversed_string = string[::-1]\n",
        "    return reversed_string\n",
        "print(rev_func(string))"
      ],
      "metadata": {
        "colab": {
          "base_uri": "https://localhost:8080/"
        },
        "id": "Je4gd3YmXivb",
        "outputId": "9d34ca04-2611-4c2b-8f60-39830029def1"
      },
      "execution_count": null,
      "outputs": [
        {
          "output_type": "stream",
          "name": "stdout",
          "text": [
            "Enter the string: all is well\n",
            "llew si lla\n"
          ]
        }
      ]
    },
    {
      "cell_type": "markdown",
      "source": [
        "# 5. Write a function that takes a positive integer and returns the number of digits."
      ],
      "metadata": {
        "id": "WQXGTSkYbBRQ"
      }
    },
    {
      "cell_type": "code",
      "source": [
        "def count_digits(n):\n",
        "    return len(str(n))\n",
        "\n",
        "number = int(input(\"Enter a positive integer: \"))\n",
        "print(count_digits(number))"
      ],
      "metadata": {
        "colab": {
          "base_uri": "https://localhost:8080/"
        },
        "id": "RfPBvAU9bD-f",
        "outputId": "9f744348-e4dd-44a3-8594-0756fda207ad"
      },
      "execution_count": null,
      "outputs": [
        {
          "output_type": "stream",
          "name": "stdout",
          "text": [
            "Enter a positive integer: 14042004\n",
            "8\n"
          ]
        }
      ]
    },
    {
      "cell_type": "markdown",
      "source": [
        "# 6. Define a function to check if a given string is a palindrome. Example: madam ⟲ madam, racecar ⟲racecar"
      ],
      "metadata": {
        "id": "26DSMJvLbY7N"
      }
    },
    {
      "cell_type": "code",
      "source": [
        "def is_palindrome(s):\n",
        "    s = s.lower()\n",
        "    return s == s[::-1]\n",
        "string = input(\"Enter a string: \")\n",
        "if is_palindrome(string):\n",
        "    print(\"Yes, it is a palindrome.\")\n",
        "else:\n",
        "    print(\"No, it is not a palindrome.\")"
      ],
      "metadata": {
        "colab": {
          "base_uri": "https://localhost:8080/"
        },
        "id": "GRE8ZcCXbcLW",
        "outputId": "9a6c8698-53a3-4f49-c9a5-935739cc8030"
      },
      "execution_count": null,
      "outputs": [
        {
          "output_type": "stream",
          "name": "stdout",
          "text": [
            "Enter a string: madam\n",
            "Yes, it is a palindrome.\n"
          ]
        }
      ]
    },
    {
      "cell_type": "markdown",
      "source": [
        "# 7. Write a Python function to check whether an alphabet is a vowel or consonant."
      ],
      "metadata": {
        "id": "sFpJab6VbvXK"
      }
    },
    {
      "cell_type": "code",
      "metadata": {
        "colab": {
          "base_uri": "https://localhost:8080/"
        },
        "id": "aef93926",
        "outputId": "d821c0e2-aaad-471a-bcc2-f1d067fbfbee"
      },
      "source": [
        "def check_vowel_or_consonant(char):\n",
        "  char = char.lower()\n",
        "  if char in ['a', 'e', 'i', 'o', 'u']:\n",
        "    return \"Vowel\"\n",
        "  elif char.isalpha() and len(char) == 1:\n",
        "    return \"Consonant\"\n",
        "  else:\n",
        "    return \"Invalid input\"\n",
        "\n",
        "letter = input(\"Enter an alphabet: \")\n",
        "print(check_vowel_or_consonant(letter))"
      ],
      "execution_count": null,
      "outputs": [
        {
          "output_type": "stream",
          "name": "stdout",
          "text": [
            "Enter an alphabet: a\n",
            "Vowel\n"
          ]
        }
      ]
    },
    {
      "cell_type": "markdown",
      "source": [
        "# 8. Write a Python program that takes the name of a month as input and returns the number of days in that month.\n",
        "### Input: The name of the Month: February\n",
        "### Output: No. of days: 28/29 days"
      ],
      "metadata": {
        "id": "fIoSk9PiciLv"
      }
    },
    {
      "cell_type": "code",
      "metadata": {
        "colab": {
          "base_uri": "https://localhost:8080/"
        },
        "id": "e4b44e21",
        "outputId": "a4add2d4-6036-4efc-f995-0d6747961610"
      },
      "source": [
        "def days_in_month(month):\n",
        "    month = month.lower()\n",
        "    if month == \"january\" or month == \"march\" or month == \"may\" or month == \"july\" or month == \"august\" or month == \"october\" or month == \"december\":\n",
        "        return 31\n",
        "    elif month == \"april\" or month == \"june\" or month == \"september\" or month == \"november\":\n",
        "        return 30\n",
        "    elif month == \"february\":\n",
        "        return \"28/29\"\n",
        "    else:\n",
        "        return \"Invalid month\"\n",
        "\n",
        "month_name = input(\"The name of the Month: \")\n",
        "print(f\"No. of days in {month_name} is: {days_in_month(month_name)} days\")"
      ],
      "execution_count": null,
      "outputs": [
        {
          "output_type": "stream",
          "name": "stdout",
          "text": [
            "The name of the Month: april\n",
            "No. of days in april is: 30 days\n"
          ]
        }
      ]
    },
    {
      "cell_type": "markdown",
      "source": [
        "# 9. Write two functions, one of which converts a binary number to decimal and the other one does the reverse."
      ],
      "metadata": {
        "id": "MJvnqp3YdyGw"
      }
    },
    {
      "cell_type": "code",
      "source": [
        "def binToDec():\n",
        "    b = input(\"Enter a binary number: \")\n",
        "    dec = int(b, 2)\n",
        "    print(f\"({b})₂ = ({dec})₁₀\\n\")\n",
        "\n",
        "def decToBin():\n",
        "    dec = int(input(\"Enter a decimal number: \"))\n",
        "    bi = bin(dec)[2:]\n",
        "    print(f\"({dec})₁₀ = ({bi})₂\")\n",
        "\n",
        "binToDec()\n",
        "decToBin()"
      ],
      "metadata": {
        "colab": {
          "base_uri": "https://localhost:8080/"
        },
        "id": "mU6xFBPMd1Wy",
        "outputId": "5ab56724-bbfc-4739-8d72-43aac3103eed"
      },
      "execution_count": null,
      "outputs": [
        {
          "output_type": "stream",
          "name": "stdout",
          "text": [
            "Enter a binary number: 110101100100001110010100\n",
            "(110101100100001110010100)₂ = (14042004)₁₀\n",
            "\n",
            "Enter a decimal number: 14042004\n",
            "(14042004)₁₀ = (110101100100001110010100)₂\n"
          ]
        }
      ]
    },
    {
      "cell_type": "markdown",
      "source": [
        "# 10. Create a function that returns all the unique permutations of a given string"
      ],
      "metadata": {
        "id": "ckYcly0wfR-D"
      }
    },
    {
      "cell_type": "code",
      "metadata": {
        "colab": {
          "base_uri": "https://localhost:8080/"
        },
        "id": "c29ec8b4",
        "outputId": "28dadee2-afec-4a55-9e0a-713283cdc31d"
      },
      "source": [
        "def permutations(s):\n",
        "    result = []\n",
        "    if len(s) == 0:\n",
        "        return [\"\"]\n",
        "    for i in range(len(s)):\n",
        "        current = s[i]\n",
        "        remaining = s[:i] + s[i+1:]\n",
        "        for p in permutations(remaining):\n",
        "            result.append(current + p)\n",
        "    return list(set(result))\n",
        "\n",
        "string = input(\"Enter a string: \")\n",
        "perms = permutations(string)\n",
        "print(\"Unique permutations:\")\n",
        "for p in perms:\n",
        "    print(p)"
      ],
      "execution_count": null,
      "outputs": [
        {
          "output_type": "stream",
          "name": "stdout",
          "text": [
            "Enter a string: 2004\n",
            "Unique permutations:\n",
            "0204\n",
            "2004\n",
            "0402\n",
            "4200\n",
            "2040\n",
            "2400\n",
            "0042\n",
            "0024\n",
            "4002\n",
            "0420\n",
            "4020\n",
            "0240\n"
          ]
        }
      ]
    },
    {
      "cell_type": "markdown",
      "source": [
        "# 11. Create a function that determines whether a string can be rearranged to form a palindrome."
      ],
      "metadata": {
        "id": "natxgyUWirRS"
      }
    },
    {
      "cell_type": "code",
      "metadata": {
        "colab": {
          "base_uri": "https://localhost:8080/"
        },
        "id": "17a6129c",
        "outputId": "28af30ed-1133-4247-bf57-1fc5b3b0d420"
      },
      "source": [
        "def can_form_palindrome(s):\n",
        "    count = {}\n",
        "    for char in s:\n",
        "        if char in count:\n",
        "            count[char] += 1\n",
        "        else:\n",
        "            count[char] = 1\n",
        "    odd_count = 0\n",
        "    for freq in count.values():\n",
        "        if freq % 2 == 1:\n",
        "            odd_count += 1\n",
        "    return odd_count <= 1\n",
        "\n",
        "string = input(\"Enter a string: \")\n",
        "if can_form_palindrome(string):\n",
        "    print(\"Yes, it can form a palindrome.\")\n",
        "else:\n",
        "    print(\"No, it cannot form a palindrome.\")"
      ],
      "execution_count": null,
      "outputs": [
        {
          "output_type": "stream",
          "name": "stdout",
          "text": [
            "Enter a string: mdama\n",
            "Yes, it can form a palindrome.\n"
          ]
        }
      ]
    },
    {
      "cell_type": "markdown",
      "source": [
        "# 12. Write a Python program using functions that prompt the user to enter today’s date (in the format YYYY-MM-DD) and the current day of the week. Then, ask the user to input a number of days. The program should calculate and display the new date and the day of the week after the specified number of days have passed.\n",
        "## Input:\n",
        "### Today’s date: 2024-08-27\n",
        "### Today’s day: Tuesday\n",
        "### Number of days: 5\n",
        "## Output:\n",
        "### New date: 2024-09-01\n",
        "### New day: Sunday"
      ],
      "metadata": {
        "id": "B7jbEpGk8_Pg"
      }
    },
    {
      "cell_type": "code",
      "source": [
        "from datetime import datetime, timedelta\n",
        "\n",
        "def calculate_new_date_and_day():\n",
        "    today_date_str = input(\"Enter today’s date (YYYY-MM-DD): \")\n",
        "    today_day = input(\"Enter today’s day of the week: \")\n",
        "    num_days = int(input(\"Enter number of days: \"))\n",
        "\n",
        "    today_date = datetime.strptime(today_date_str, \"%Y-%m-%d\")\n",
        "    new_date = today_date + timedelta(days=num_days)\n",
        "\n",
        "    days_of_week = [\"Monday\", \"Tuesday\", \"Wednesday\", \"Thursday\", \"Friday\", \"Saturday\", \"Sunday\"]\n",
        "    today_index = days_of_week.index(today_day.capitalize())\n",
        "    new_day_index = (today_index + num_days) % 7\n",
        "    new_day = days_of_week[new_day_index]\n",
        "\n",
        "    print(f\"New date: {new_date.strftime('%Y-%m-%d')}\")\n",
        "    print(f\"New day: {new_day}\")\n",
        "\n",
        "calculate_new_date_and_day()"
      ],
      "metadata": {
        "colab": {
          "base_uri": "https://localhost:8080/"
        },
        "id": "zilnKwck_o3l",
        "outputId": "76e38735-3895-4cae-9761-1f4fcc4a3368"
      },
      "execution_count": null,
      "outputs": [
        {
          "output_type": "stream",
          "name": "stdout",
          "text": [
            "Enter today’s date (YYYY-MM-DD): 2025-10-29\n",
            "Enter today’s day of the week: Wednesday\n",
            "Enter number of days: 5\n",
            "New date: 2025-11-03\n",
            "New day: Monday\n"
          ]
        }
      ]
    },
    {
      "cell_type": "markdown",
      "source": [
        "# 13. Write a program that converts a Roman numeral to its integer equivalent."
      ],
      "metadata": {
        "id": "pxUnNfpjBzxY"
      }
    },
    {
      "cell_type": "code",
      "source": [
        "def roman_to_int(s):\n",
        "    roman_map = {'I': 1, 'V': 5, 'X': 10, 'L': 50, 'C': 100, 'D': 500, 'M': 1000}\n",
        "    result = 0\n",
        "    prev_value = 0\n",
        "    for char in reversed(s):\n",
        "        value = roman_map[char]\n",
        "        if value < prev_value:\n",
        "            result -= value\n",
        "        else:\n",
        "            result += value\n",
        "        prev_value = value\n",
        "    return result\n",
        "\n",
        "roman_numeral = input(\"Enter a Roman numeral: \")\n",
        "integer_equivalent = roman_to_int(roman_numeral.upper())\n",
        "print(f\"The integer equivalent of {roman_numeral.upper()} is: {integer_equivalent}\")"
      ],
      "metadata": {
        "colab": {
          "base_uri": "https://localhost:8080/"
        },
        "id": "Z3Cd4BxTB2Dx",
        "outputId": "2d485bd4-6109-42d6-fa1d-306c7492a54b"
      },
      "execution_count": null,
      "outputs": [
        {
          "output_type": "stream",
          "name": "stdout",
          "text": [
            "Enter a Roman numeral: xiv\n",
            "The integer equivalent of XIV is: 14\n"
          ]
        }
      ]
    },
    {
      "cell_type": "markdown",
      "source": [
        "# 14. Write a function to determine if a given number is an Armstrong number.(An Armstrong number is a number that is equal to the sum of its digits, each raised to the power of the number of digits, e.g., 153 = 13 + 53 + 33, 1634 = 14 + 64 + 34 + 44)."
      ],
      "metadata": {
        "id": "XMdegBwJCqVP"
      }
    },
    {
      "cell_type": "code",
      "source": [
        "def is_armstrong_number(n):\n",
        "    num_str = str(n)\n",
        "    num_digits = len(num_str)\n",
        "    armstrong_sum = 0\n",
        "    for digit in num_str:\n",
        "        armstrong_sum += int(digit) ** num_digits\n",
        "    return armstrong_sum == n\n",
        "\n",
        "number = int(input(\"Enter a number to check if it is an Armstrong number: \"))\n",
        "if is_armstrong_number(number):\n",
        "    print(f\"{number} is an Armstrong number.\")\n",
        "else:\n",
        "    print(f\"{number} is not an Armstrong number.\")"
      ],
      "metadata": {
        "colab": {
          "base_uri": "https://localhost:8080/"
        },
        "id": "rueltofnCufI",
        "outputId": "4658aa54-2e04-4869-e844-015b83243890"
      },
      "execution_count": null,
      "outputs": [
        {
          "output_type": "stream",
          "name": "stdout",
          "text": [
            "Enter a number to check if it is an Armstrong number: 1404\n",
            "1404 is not an Armstrong number.\n"
          ]
        }
      ]
    },
    {
      "cell_type": "markdown",
      "source": [
        "# 15. Create a function that returns the nth number in the Fibonacci sequence."
      ],
      "metadata": {
        "id": "DkY-js_4DyhR"
      }
    },
    {
      "cell_type": "code",
      "source": [
        "def fibonacci(n):\n",
        "    if n <= 0:\n",
        "        return \"Input should be a positive integer\"\n",
        "    elif n == 1:\n",
        "        return 0\n",
        "    elif n == 2:\n",
        "        return 1\n",
        "    else:\n",
        "        a, b = 0, 1\n",
        "        for _ in range(n - 2):\n",
        "            a, b = b, a + b\n",
        "        return b\n",
        "\n",
        "num = int(input(\"Enter the value of n for the nth Fibonacci number: \"))\n",
        "print(f\"The {num}th Fibonacci number is: {fibonacci(num)}\")"
      ],
      "metadata": {
        "colab": {
          "base_uri": "https://localhost:8080/"
        },
        "id": "VGSW3G9kD2Pf",
        "outputId": "efd1103f-f6a0-4504-f671-7607dc2acb6f"
      },
      "execution_count": null,
      "outputs": [
        {
          "output_type": "stream",
          "name": "stdout",
          "text": [
            "Enter the value of n for the nth Fibonacci number: 14\n",
            "The 14th Fibonacci number is: 233\n"
          ]
        }
      ]
    },
    {
      "cell_type": "markdown",
      "source": [
        "# 16. Write a function to implement a basic calculator that can add, subtract, multiply, and divide two numbers based on user input."
      ],
      "metadata": {
        "id": "VjisAr9ZF_02"
      }
    },
    {
      "cell_type": "code",
      "source": [
        "def calculator():\n",
        "    num1 = float(input(\"Enter first number: \"))\n",
        "    operator = input(\"Enter operator (+, -, *, /): \")\n",
        "    num2 = float(input(\"Enter second number: \"))\n",
        "\n",
        "    if operator == '+':\n",
        "        print(f\"{num1} + {num2} = {num1 + num2}\")\n",
        "    elif operator == '-':\n",
        "        print(f\"{num1} - {num2} = {num1 - num2}\")\n",
        "    elif operator == '*':\n",
        "        print(f\"{num1} * {num2} = {num1 * num2}\")\n",
        "    elif operator == '/':\n",
        "        if num2 != 0:\n",
        "            print(f\"{num1} / {num2} = {num1 / num2}\")\n",
        "        else:\n",
        "            print(\"Error: Division by zero is not allowed.\")\n",
        "    else:\n",
        "        print(\"Error: Invalid operator.\")\n",
        "\n",
        "calculator()"
      ],
      "metadata": {
        "colab": {
          "base_uri": "https://localhost:8080/"
        },
        "id": "5zdZb-rEGC4p",
        "outputId": "1b6bca30-388e-406e-c936-ea4ef3640c38"
      },
      "execution_count": null,
      "outputs": [
        {
          "output_type": "stream",
          "name": "stdout",
          "text": [
            "Enter first number: 14\n",
            "Enter operator (+, -, *, /): +\n",
            "Enter second number: 14\n",
            "14.0 + 14.0 = 28.0\n"
          ]
        }
      ]
    },
    {
      "cell_type": "markdown",
      "source": [
        "# 17. Create a function that takes a string and returns a new string where all the vowels are removed."
      ],
      "metadata": {
        "id": "P1q_IGDCGObQ"
      }
    },
    {
      "cell_type": "code",
      "source": [
        "def remove_vowels(s):\n",
        "    vowels = \"aeiouAEIOU\"\n",
        "    new_string = \"\"\n",
        "    for char in s:\n",
        "        if char not in vowels:\n",
        "            new_string += char\n",
        "    return new_string\n",
        "\n",
        "input_string = input(\"Enter a string: \")\n",
        "string_without_vowels = remove_vowels(input_string)\n",
        "print(f\"The string without vowels is: {string_without_vowels}\")"
      ],
      "metadata": {
        "colab": {
          "base_uri": "https://localhost:8080/"
        },
        "id": "36_ItC7KGWPe",
        "outputId": "44ff8ae2-a6f3-4fef-e1ef-40260e3f2227"
      },
      "execution_count": null,
      "outputs": [
        {
          "output_type": "stream",
          "name": "stdout",
          "text": [
            "Enter a string: every is fine\n",
            "The string without vowels is: vry s fn\n"
          ]
        }
      ]
    },
    {
      "cell_type": "markdown",
      "source": [
        "# 18. Write a function to check if a string is an Anagram of another string. (An anagram is a word or phrase formed by rearranging the letters of a different word or phrase, typically using all the original letters exactly once, e.g. tom marvolo riddle ⇝ i am lord voldemort)"
      ],
      "metadata": {
        "id": "f3EfwcaMGsw4"
      }
    },
    {
      "cell_type": "code",
      "source": [
        "def is_anagram(str1, str2):\n",
        "    str1 = str1.replace(\" \", \"\").lower()\n",
        "    str2 = str2.replace(\" \", \"\").lower()\n",
        "\n",
        "    return sorted(str1) == sorted(str2)\n",
        "\n",
        "string1 = input(\"Enter the first string: \")\n",
        "string2 = input(\"Enter the second string: \")\n",
        "\n",
        "if is_anagram(string1, string2):\n",
        "    print(f\"'{string1}' and '{string2}' are anagrams.\")\n",
        "else:\n",
        "    print(f\"'{string1}' and '{string2}' are not anagrams.\")"
      ],
      "metadata": {
        "colab": {
          "base_uri": "https://localhost:8080/"
        },
        "id": "BAM2jXFyGyO9",
        "outputId": "72562fb5-f7ac-4fe5-e235-6b0e16d05e1e"
      },
      "execution_count": null,
      "outputs": [
        {
          "output_type": "stream",
          "name": "stdout",
          "text": [
            "Enter the first string: Tom Marvolo Riddle\n",
            "Enter the second string: I am Lord Voldemort\n",
            "'Tom Marvolo Riddle' and 'I am Lord Voldemort' are anagrams.\n"
          ]
        }
      ]
    },
    {
      "cell_type": "markdown",
      "source": [
        "# 19. Create a function to find the greatest common divisor (GCD) of two numbers using a while loop."
      ],
      "metadata": {
        "id": "YulPx_ryIwND"
      }
    },
    {
      "cell_type": "code",
      "source": [
        "def find_gcd(a, b):\n",
        "    while(b):\n",
        "        a, b = b, a % b\n",
        "    return a\n",
        "\n",
        "num1 = int(input(\"Enter first number: \"))\n",
        "num2 = int(input(\"Enter second number: \"))\n",
        "\n",
        "gcd = find_gcd(num1, num2)\n",
        "print(f\"The GCD of {num1} and {num2} is: {gcd}\")"
      ],
      "metadata": {
        "colab": {
          "base_uri": "https://localhost:8080/"
        },
        "id": "0BePcYQyIxE_",
        "outputId": "233b9eb7-9eb1-4320-c539-c51406ebb942"
      },
      "execution_count": null,
      "outputs": [
        {
          "output_type": "stream",
          "name": "stdout",
          "text": [
            "Enter first number: 14\n",
            "Enter second number: 10\n",
            "The GCD of 14 and 10 is: 2\n"
          ]
        }
      ]
    },
    {
      "cell_type": "markdown",
      "source": [
        "# 20. Write a function to print all prime numbers between 1 and 100."
      ],
      "metadata": {
        "id": "BzPPrj8fI-ms"
      }
    },
    {
      "cell_type": "code",
      "source": [
        "def print_prime_numbers():\n",
        "    for num in range(2, 101):\n",
        "        is_prime = True\n",
        "        for i in range(2, int(num**0.5) + 1):\n",
        "            if (num % i) == 0:\n",
        "                is_prime = False\n",
        "                break\n",
        "        if is_prime:\n",
        "            print(num,end = \",\")\n",
        "\n",
        "print(\"Prime numbers between 1 and 100 are:\")\n",
        "print_prime_numbers()"
      ],
      "metadata": {
        "colab": {
          "base_uri": "https://localhost:8080/"
        },
        "id": "kABpwDedJCTB",
        "outputId": "8d6898b8-49d8-4173-f471-4d7e61da4b7c"
      },
      "execution_count": null,
      "outputs": [
        {
          "output_type": "stream",
          "name": "stdout",
          "text": [
            "Prime numbers between 1 and 100 are:\n",
            "2,3,5,7,11,13,17,19,23,29,31,37,41,43,47,53,59,61,67,71,73,79,83,89,97,"
          ]
        }
      ]
    },
    {
      "cell_type": "markdown",
      "source": [
        "# 21. Write a function to calculate the factorial of a number using a loop"
      ],
      "metadata": {
        "id": "gY1G7aMQLKBy"
      }
    },
    {
      "cell_type": "code",
      "source": [
        "def factorial(n):\n",
        "    if n < 0:\n",
        "        return \"Factorial is not defined for negative numbers\"\n",
        "    elif n == 0:\n",
        "        return 1\n",
        "    else:\n",
        "        result = 1\n",
        "        for i in range(1, n + 1):\n",
        "            result *= i\n",
        "        return result\n",
        "\n",
        "num = int(input(\"Enter a non-negative integer to calculate its factorial: \"))\n",
        "print(f\"The factorial of {num} is: {factorial(num)}\")"
      ],
      "metadata": {
        "colab": {
          "base_uri": "https://localhost:8080/"
        },
        "id": "2fPgjLyBLLwR",
        "outputId": "ddb31ac3-93f9-483e-ee2d-0a67bb88e504"
      },
      "execution_count": null,
      "outputs": [
        {
          "output_type": "stream",
          "name": "stdout",
          "text": [
            "Enter a non-negative integer to calculate its factorial: 14\n",
            "The factorial of 14 is: 87178291200\n"
          ]
        }
      ]
    },
    {
      "cell_type": "markdown",
      "source": [
        "# 22. Create a function that prints the first 10 terms of an arithmetic progression\n"
      ],
      "metadata": {
        "id": "SQ3TL_ZwLZWz"
      }
    },
    {
      "cell_type": "code",
      "source": [
        "def print_arithmetic_progression(a, d, num_terms=10):\n",
        "\n",
        "    current_term = a\n",
        "    for _ in range(num_terms):\n",
        "        print(current_term, end=\" \")\n",
        "        current_term += d\n",
        "    print()\n",
        "\n",
        "first_term = float(input(\"Enter the first term of the arithmetic progression: \"))\n",
        "common_difference = float(input(\"Enter the common difference: \"))\n",
        "\n",
        "print(f\"The first 10 terms of the arithmetic progression are:\")\n",
        "print_arithmetic_progression(first_term, common_difference)"
      ],
      "metadata": {
        "colab": {
          "base_uri": "https://localhost:8080/"
        },
        "id": "VJGMs65zLbfx",
        "outputId": "5f37bf0e-2fcd-48ab-80b4-a1643708c326"
      },
      "execution_count": null,
      "outputs": [
        {
          "output_type": "stream",
          "name": "stdout",
          "text": [
            "Enter the first term of the arithmetic progression: 14\n",
            "Enter the common difference: 10\n",
            "The first 10 terms of the arithmetic progression are:\n",
            "14.0 24.0 34.0 44.0 54.0 64.0 74.0 84.0 94.0 104.0 \n"
          ]
        }
      ]
    },
    {
      "cell_type": "markdown",
      "source": [
        "# 23. Write a function that returns the index of each vowel in a string using a for loop."
      ],
      "metadata": {
        "id": "2S7ifyyUPmQK"
      }
    },
    {
      "cell_type": "code",
      "source": [
        "def find_vowel_indices(s):\n",
        "    vowels = \"aeiouAEIOU\"\n",
        "    vowel_indices = []\n",
        "    for index in range(len(s)):\n",
        "        if s[index] in vowels:\n",
        "            vowel_indices.append(index)\n",
        "    return vowel_indices\n",
        "\n",
        "input_string = input(\"Enter a string: \")\n",
        "indices = find_vowel_indices(input_string)\n",
        "print(f\"The indices of vowels in the string '{input_string}' are: {indices}\")"
      ],
      "metadata": {
        "colab": {
          "base_uri": "https://localhost:8080/"
        },
        "id": "E9Ql_yCrPoi8",
        "outputId": "0180c735-6c3f-44d6-c09e-1055e012ad8d"
      },
      "execution_count": null,
      "outputs": [
        {
          "output_type": "stream",
          "name": "stdout",
          "text": [
            "Enter a string: everything is great\n",
            "The indices of vowels in the string 'everything is great' are: [0, 2, 7, 11, 16, 17]\n"
          ]
        }
      ]
    },
    {
      "cell_type": "markdown",
      "source": [
        "# 24. Write a function that removes all punctuation from a string."
      ],
      "metadata": {
        "id": "x9YqGon2P5u8"
      }
    },
    {
      "cell_type": "code",
      "source": [
        "import string\n",
        "\n",
        "def remove_punctuation(s):\n",
        "\n",
        "    new_string = \"\"\n",
        "    for char in s:\n",
        "        if char not in string.punctuation:\n",
        "            new_string += char\n",
        "    return new_string\n",
        "\n",
        "input_string = input(\"Enter a string with punctuation: \")\n",
        "\n",
        "string_without_punctuation = remove_punctuation(input_string)\n",
        "print(f\"The string without punctuation is: {string_without_punctuation}\")"
      ],
      "metadata": {
        "colab": {
          "base_uri": "https://localhost:8080/"
        },
        "id": "nrj_-4gsP8IB",
        "outputId": "8ea41e14-6a3e-4f6d-e0e0-9e8001820b69"
      },
      "execution_count": null,
      "outputs": [
        {
          "output_type": "stream",
          "name": "stdout",
          "text": [
            "Enter a string with punctuation: This is Comma , This is Fullstop . \n",
            "The string without punctuation is: This is Comma  This is Fullstop  \n"
          ]
        }
      ]
    },
    {
      "cell_type": "markdown",
      "source": [
        "# 25. Write a function to check if two numbers are coprime."
      ],
      "metadata": {
        "id": "BJQ7jd_pQfhR"
      }
    },
    {
      "cell_type": "code",
      "source": [
        "def find_gcd(a, b):\n",
        "    while(b):\n",
        "        a, b = b, a % b\n",
        "    return a\n",
        "\n",
        "def are_coprime(num1, num2):\n",
        "\n",
        "    return find_gcd(num1, num2) == 1\n",
        "\n",
        "number1 = int(input(\"Enter the first number: \"))\n",
        "number2 = int(input(\"Enter the second number: \"))\n",
        "\n",
        "if are_coprime(number1, number2):\n",
        "    print(f\"{number1} and {number2} are coprime.\")\n",
        "else:\n",
        "    print(f\"{number1} and {number2} are not coprime.\")"
      ],
      "metadata": {
        "colab": {
          "base_uri": "https://localhost:8080/"
        },
        "id": "uPiKHUiUQOlC",
        "outputId": "d01104f0-38c7-4351-934c-63d4cac5fe84"
      },
      "execution_count": null,
      "outputs": [
        {
          "output_type": "stream",
          "name": "stdout",
          "text": [
            "Enter the first number: 14\n",
            "Enter the second number: 10\n",
            "14 and 10 are not coprime.\n"
          ]
        }
      ]
    },
    {
      "cell_type": "markdown",
      "source": [
        "# 26. Write a function that replaces all vowels in a string with the character ”*”."
      ],
      "metadata": {
        "id": "CJmfJ6YHgeCM"
      }
    },
    {
      "cell_type": "code",
      "source": [
        "def replace_vowels_with_star(s):\n",
        "\n",
        "    vowels = \"aeiouAEIOU\"\n",
        "    new_string = \"\"\n",
        "    for char in s:\n",
        "        if char in vowels:\n",
        "            new_string += \"*\"\n",
        "        else:\n",
        "            new_string += char\n",
        "    return new_string\n",
        "\n",
        "input_string = input(\"Enter a string: \")\n",
        "\n",
        "string_with_vowels_replaced = replace_vowels_with_star(input_string)\n",
        "print(f\"The string with vowels replaced is: {string_with_vowels_replaced}\")"
      ],
      "metadata": {
        "colab": {
          "base_uri": "https://localhost:8080/"
        },
        "id": "DzdNKs2NhzCd",
        "outputId": "8431a23b-7272-4d92-db7d-f29ab3bf34a6"
      },
      "execution_count": null,
      "outputs": [
        {
          "output_type": "stream",
          "name": "stdout",
          "text": [
            "Enter a string: Everything is well\n",
            "The string with vowels replaced is: *v*ryth*ng *s w*ll\n"
          ]
        }
      ]
    },
    {
      "cell_type": "markdown",
      "source": [
        "# 27. Write a function that takes a positive number as an input and converts the respective digits into corresponding text. Example: 85 → eight five, 123 → one two three."
      ],
      "metadata": {
        "id": "RE1FdHy8h9qu"
      }
    },
    {
      "cell_type": "code",
      "source": [
        "def digits_to_text(n):\n",
        "\n",
        "    if not isinstance(n, int) or n < 0:\n",
        "        return \"Input must be a positive integer.\"\n",
        "\n",
        "    digit_map = {\n",
        "        '0': 'zero', '1': 'one', '2': 'two', '3': 'three', '4': 'four',\n",
        "        '5': 'five', '6': 'six', '7': 'seven', '8': 'eight', '9': 'nine'\n",
        "    }\n",
        "\n",
        "    num_str = str(n)\n",
        "    text_digits = [digit_map[digit] for digit in num_str]\n",
        "    return \" \".join(text_digits)\n",
        "try:\n",
        "    number = int(input(\"Enter a positive number: \"))\n",
        "    text_representation = digits_to_text(number)\n",
        "    print(f\"The digits of {number} in text are: {text_representation}\")\n",
        "except ValueError:\n",
        "    print(\"Invalid input. Please enter an integer.\")"
      ],
      "metadata": {
        "id": "T_aT4ErtiDkN",
        "colab": {
          "base_uri": "https://localhost:8080/"
        },
        "outputId": "d5e19e8a-bf39-4171-a12a-8e3edb95e841"
      },
      "execution_count": null,
      "outputs": [
        {
          "output_type": "stream",
          "name": "stdout",
          "text": [
            "Enter a positive number: 14\n",
            "The digits of 14 in text are: one four\n"
          ]
        }
      ]
    },
    {
      "cell_type": "markdown",
      "source": [
        "# 28. Write a function that takes a string of lowercase alphabets as inputs and gives an output by shifting them by one letter ahead. Note that if the string has ’z’, then it will be treated as ’a’. Example: python → qzuipo, pythonzabc → qzuipobbcd."
      ],
      "metadata": {
        "id": "3pcXP9GreOQw"
      }
    },
    {
      "cell_type": "code",
      "metadata": {
        "colab": {
          "base_uri": "https://localhost:8080/"
        },
        "id": "95da8951",
        "outputId": "064fbfcd-05ba-4eb1-e419-6891c9c38850"
      },
      "source": [
        "def shift_letters(text):\n",
        "    alphabet = \"abcdefghijklmnopqrstuvwxyz\"\n",
        "    result = \"\"\n",
        "\n",
        "    for ch in text:\n",
        "        if ch == 'z':\n",
        "            result += 'a'\n",
        "        else:\n",
        "            index = alphabet.index(ch)\n",
        "            result += alphabet[index + 1]\n",
        "\n",
        "    return result\n",
        "\n",
        "s = input(\"Enter a lowercase string: \")\n",
        "print(\"Shifted string:\", shift_letters(s))\n"
      ],
      "execution_count": null,
      "outputs": [
        {
          "output_type": "stream",
          "name": "stdout",
          "text": [
            "Enter a lowercase string: python\n",
            "Shifted string: qzuipo\n"
          ]
        }
      ]
    },
    {
      "cell_type": "markdown",
      "source": [
        "# 29. Write a function to check if a given number is a perfect number. (A number is called a perfect number if it is equal to the sum of its real divisors, e.g., 6=1+2+3, 28=1+2+4+7+14)."
      ],
      "metadata": {
        "id": "G6QoGjxae326"
      }
    },
    {
      "cell_type": "code",
      "metadata": {
        "colab": {
          "base_uri": "https://localhost:8080/"
        },
        "id": "79d6961e",
        "outputId": "c541e2b8-79b6-45d3-e50f-997965aa7b3d"
      },
      "source": [
        "def is_perfect_number(n):\n",
        "    if n <= 0:\n",
        "        return False\n",
        "\n",
        "    divisors_sum = 0\n",
        "    for i in range(1, n):\n",
        "        if n % i == 0:\n",
        "            divisors_sum += i\n",
        "\n",
        "    return divisors_sum == n\n",
        "\n",
        "number = int(input(\"Enter a number to check if it is a perfect number: \"))\n",
        "\n",
        "if is_perfect_number(number):\n",
        "    print(f\"{number} is a perfect number.\")\n",
        "else:\n",
        "    print(f\"{number} is not a perfect number.\")"
      ],
      "execution_count": null,
      "outputs": [
        {
          "output_type": "stream",
          "name": "stdout",
          "text": [
            "Enter a number to check if it is a perfect number: 6\n",
            "6 is a perfect number.\n"
          ]
        }
      ]
    },
    {
      "cell_type": "markdown",
      "source": [
        "# 30. Write a function that inputs a number and returns the product of digits of that number"
      ],
      "metadata": {
        "id": "cpa2Q-LYfGnB"
      }
    },
    {
      "cell_type": "code",
      "metadata": {
        "colab": {
          "base_uri": "https://localhost:8080/"
        },
        "id": "42438891",
        "outputId": "bac0f23a-b266-40e4-ee1c-4132d5d4dece"
      },
      "source": [
        "def product_of_digits(num):\n",
        "    product = 1\n",
        "    for digit in str(num):\n",
        "        product *= int(digit)\n",
        "    return product\n",
        "\n",
        "n = int(input(\"Enter a number: \"))\n",
        "print(\"Product of digits:\", product_of_digits(n))\n"
      ],
      "execution_count": null,
      "outputs": [
        {
          "output_type": "stream",
          "name": "stdout",
          "text": [
            "Enter a number: 14\n",
            "Product of digits: 4\n"
          ]
        }
      ]
    }
  ]
}