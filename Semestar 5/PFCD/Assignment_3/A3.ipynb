{
  "nbformat": 4,
  "nbformat_minor": 0,
  "metadata": {
    "colab": {
      "provenance": []
    },
    "kernelspec": {
      "name": "python3",
      "display_name": "Python 3"
    },
    "language_info": {
      "name": "python"
    }
  },
  "cells": [
    {
      "cell_type": "markdown",
      "source": [
        "# 1. Write a Python function to find the first, second and third greatest digit in a number.\n",
        "### Sample Number: 6328\n",
        "### Expected Output: 8, 6, 3"
      ],
      "metadata": {
        "id": "0wKUNhQySG9j"
      }
    },
    {
      "cell_type": "code",
      "metadata": {
        "colab": {
          "base_uri": "https://localhost:8080/"
        },
        "id": "01a20d75",
        "outputId": "cb81dcad-251f-4748-a29f-ae0be1e4583c"
      },
      "source": [
        "num = int(input(\"Enter a number: \"))\n",
        "num = str(num)\n",
        "def find_greatest_digits(number_str):\n",
        "    digits = sorted(list(set(number_str)), reverse=True)\n",
        "    if len(digits) >= 3:\n",
        "        return digits[0], digits[1], digits[2]\n",
        "    else:\n",
        "        return None\n",
        "\n",
        "greatest_digits = find_greatest_digits(num)\n",
        "\n",
        "if greatest_digits:\n",
        "    print(f\"First greatest number is: {greatest_digits[0]}\\nSecond greatest number is: {greatest_digits[1]}\\nThird greatest digit is: {greatest_digits[2]}\")\n",
        "else:\n",
        "    print(\"The number does not have at least three distinct digits.\")"
      ],
      "execution_count": 1,
      "outputs": [
        {
          "output_type": "stream",
          "name": "stdout",
          "text": [
            "Enter a number: 6328\n",
            "First greatest number is: 8\n",
            "Second greatest number is: 6\n",
            "Third greatest digit is: 3\n"
          ]
        }
      ]
    },
    {
      "cell_type": "markdown",
      "source": [
        "# 2. Find the numbers between 100 and 500, which are divisible by 3 and multiples of 5 using function in Python."
      ],
      "metadata": {
        "id": "KbHw3qIHUyWd"
      }
    },
    {
      "cell_type": "code",
      "source": [
        "def find_numbers():\n",
        "    result = []\n",
        "    for num in range(100, 501):\n",
        "        if num % 3 == 0 and num % 5 == 0:\n",
        "            result.append(num)\n",
        "    return result\n",
        "numbers = find_numbers()\n",
        "print(numbers)"
      ],
      "metadata": {
        "colab": {
          "base_uri": "https://localhost:8080/"
        },
        "id": "ZsSxJa50U2lb",
        "outputId": "989b32cf-f794-4b0b-88c7-3c6775d36c82"
      },
      "execution_count": 2,
      "outputs": [
        {
          "output_type": "stream",
          "name": "stdout",
          "text": [
            "[105, 120, 135, 150, 165, 180, 195, 210, 225, 240, 255, 270, 285, 300, 315, 330, 345, 360, 375, 390, 405, 420, 435, 450, 465, 480, 495]\n"
          ]
        }
      ]
    },
    {
      "cell_type": "markdown",
      "source": [
        "# 3. Write a Python function to add the squares of the even numbers between 1 and 50 (both included)."
      ],
      "metadata": {
        "id": "yrREg4w5VhM7"
      }
    },
    {
      "cell_type": "code",
      "source": [
        "def sum_of_even_squares():\n",
        "    total = 0\n",
        "    for num in range(1, 51):\n",
        "        if num % 2 == 0:\n",
        "            total += num ** 2\n",
        "    return total\n",
        "\n",
        "print(sum_of_even_squares())"
      ],
      "metadata": {
        "colab": {
          "base_uri": "https://localhost:8080/"
        },
        "id": "_LEv9OMMVd3m",
        "outputId": "283fd2ed-3200-4588-e5a1-950f689ee7d1"
      },
      "execution_count": 3,
      "outputs": [
        {
          "output_type": "stream",
          "name": "stdout",
          "text": [
            "22100\n"
          ]
        }
      ]
    },
    {
      "cell_type": "markdown",
      "source": [
        "# 4. Write a function that takes a string as input and returns the reversed string."
      ],
      "metadata": {
        "id": "_Ns7zSy7Xgst"
      }
    },
    {
      "cell_type": "code",
      "source": [
        "string = input(\"Enter the string: \")\n",
        "def rev_func(string):\n",
        "    reversed_string = string[::-1]\n",
        "    return reversed_string\n",
        "print(rev_func(string))"
      ],
      "metadata": {
        "colab": {
          "base_uri": "https://localhost:8080/"
        },
        "id": "Je4gd3YmXivb",
        "outputId": "9d34ca04-2611-4c2b-8f60-39830029def1"
      },
      "execution_count": 4,
      "outputs": [
        {
          "output_type": "stream",
          "name": "stdout",
          "text": [
            "Enter the string: all is well\n",
            "llew si lla\n"
          ]
        }
      ]
    },
    {
      "cell_type": "markdown",
      "source": [
        "# 5. Write a function that takes a positive integer and returns the number of digits."
      ],
      "metadata": {
        "id": "WQXGTSkYbBRQ"
      }
    },
    {
      "cell_type": "code",
      "source": [
        "def count_digits(n):\n",
        "    return len(str(n))\n",
        "\n",
        "number = int(input(\"Enter a positive integer: \"))\n",
        "print(count_digits(number))"
      ],
      "metadata": {
        "colab": {
          "base_uri": "https://localhost:8080/"
        },
        "id": "RfPBvAU9bD-f",
        "outputId": "9f744348-e4dd-44a3-8594-0756fda207ad"
      },
      "execution_count": 5,
      "outputs": [
        {
          "output_type": "stream",
          "name": "stdout",
          "text": [
            "Enter a positive integer: 14042004\n",
            "8\n"
          ]
        }
      ]
    },
    {
      "cell_type": "markdown",
      "source": [
        "# 6. Define a function to check if a given string is a palindrome. Example: madam ⟲ madam, racecar ⟲racecar"
      ],
      "metadata": {
        "id": "26DSMJvLbY7N"
      }
    },
    {
      "cell_type": "code",
      "source": [
        "def is_palindrome(s):\n",
        "    s = s.lower()\n",
        "    return s == s[::-1]\n",
        "string = input(\"Enter a string: \")\n",
        "if is_palindrome(string):\n",
        "    print(\"Yes, it is a palindrome.\")\n",
        "else:\n",
        "    print(\"No, it is not a palindrome.\")"
      ],
      "metadata": {
        "colab": {
          "base_uri": "https://localhost:8080/"
        },
        "id": "GRE8ZcCXbcLW",
        "outputId": "9a6c8698-53a3-4f49-c9a5-935739cc8030"
      },
      "execution_count": 6,
      "outputs": [
        {
          "output_type": "stream",
          "name": "stdout",
          "text": [
            "Enter a string: madam\n",
            "Yes, it is a palindrome.\n"
          ]
        }
      ]
    },
    {
      "cell_type": "markdown",
      "source": [
        "# 7. Write a Python function to check whether an alphabet is a vowel or consonant."
      ],
      "metadata": {
        "id": "sFpJab6VbvXK"
      }
    },
    {
      "cell_type": "code",
      "metadata": {
        "colab": {
          "base_uri": "https://localhost:8080/"
        },
        "id": "aef93926",
        "outputId": "d821c0e2-aaad-471a-bcc2-f1d067fbfbee"
      },
      "source": [
        "def check_vowel_or_consonant(char):\n",
        "  char = char.lower()\n",
        "  if char in ['a', 'e', 'i', 'o', 'u']:\n",
        "    return \"Vowel\"\n",
        "  elif char.isalpha() and len(char) == 1:\n",
        "    return \"Consonant\"\n",
        "  else:\n",
        "    return \"Invalid input\"\n",
        "\n",
        "letter = input(\"Enter an alphabet: \")\n",
        "print(check_vowel_or_consonant(letter))"
      ],
      "execution_count": 7,
      "outputs": [
        {
          "output_type": "stream",
          "name": "stdout",
          "text": [
            "Enter an alphabet: a\n",
            "Vowel\n"
          ]
        }
      ]
    },
    {
      "cell_type": "markdown",
      "source": [
        "# 8. Write a Python program that takes the name of a month as input and returns the number of days in that month.\n",
        "### Input: The name of the Month: February\n",
        "### Output: No. of days: 28/29 days"
      ],
      "metadata": {
        "id": "fIoSk9PiciLv"
      }
    },
    {
      "cell_type": "code",
      "metadata": {
        "colab": {
          "base_uri": "https://localhost:8080/"
        },
        "id": "e4b44e21",
        "outputId": "a4add2d4-6036-4efc-f995-0d6747961610"
      },
      "source": [
        "def days_in_month(month):\n",
        "    month = month.lower()\n",
        "    if month == \"january\" or month == \"march\" or month == \"may\" or month == \"july\" or month == \"august\" or month == \"october\" or month == \"december\":\n",
        "        return 31\n",
        "    elif month == \"april\" or month == \"june\" or month == \"september\" or month == \"november\":\n",
        "        return 30\n",
        "    elif month == \"february\":\n",
        "        return \"28/29\"\n",
        "    else:\n",
        "        return \"Invalid month\"\n",
        "\n",
        "month_name = input(\"The name of the Month: \")\n",
        "print(f\"No. of days in {month_name} is: {days_in_month(month_name)} days\")"
      ],
      "execution_count": 8,
      "outputs": [
        {
          "output_type": "stream",
          "name": "stdout",
          "text": [
            "The name of the Month: april\n",
            "No. of days in april is: 30 days\n"
          ]
        }
      ]
    },
    {
      "cell_type": "markdown",
      "source": [
        "# 9. Write two functions, one of which converts a binary number to decimal and the other one does the reverse."
      ],
      "metadata": {
        "id": "MJvnqp3YdyGw"
      }
    },
    {
      "cell_type": "code",
      "source": [
        "def binToDec():\n",
        "    b = input(\"Enter a binary number: \")\n",
        "    dec = int(b, 2)\n",
        "    print(f\"({b})₂ = ({dec})₁₀\\n\")\n",
        "\n",
        "def decToBin():\n",
        "    dec = int(input(\"Enter a decimal number: \"))\n",
        "    bi = bin(dec)[2:]\n",
        "    print(f\"({dec})₁₀ = ({bi})₂\")\n",
        "\n",
        "binToDec()\n",
        "decToBin()"
      ],
      "metadata": {
        "colab": {
          "base_uri": "https://localhost:8080/"
        },
        "id": "mU6xFBPMd1Wy",
        "outputId": "5ab56724-bbfc-4739-8d72-43aac3103eed"
      },
      "execution_count": 11,
      "outputs": [
        {
          "output_type": "stream",
          "name": "stdout",
          "text": [
            "Enter a binary number: 110101100100001110010100\n",
            "(110101100100001110010100)₂ = (14042004)₁₀\n",
            "\n",
            "Enter a decimal number: 14042004\n",
            "(14042004)₁₀ = (110101100100001110010100)₂\n"
          ]
        }
      ]
    },
    {
      "cell_type": "markdown",
      "source": [
        "# 10. Create a function that returns all the unique permutations of a given string"
      ],
      "metadata": {
        "id": "ckYcly0wfR-D"
      }
    },
    {
      "cell_type": "code",
      "metadata": {
        "colab": {
          "base_uri": "https://localhost:8080/"
        },
        "id": "c29ec8b4",
        "outputId": "28dadee2-afec-4a55-9e0a-713283cdc31d"
      },
      "source": [
        "def permutations(s):\n",
        "    result = []\n",
        "    if len(s) == 0:\n",
        "        return [\"\"]\n",
        "    for i in range(len(s)):\n",
        "        current = s[i]\n",
        "        remaining = s[:i] + s[i+1:]\n",
        "        for p in permutations(remaining):\n",
        "            result.append(current + p)\n",
        "    return list(set(result))\n",
        "\n",
        "string = input(\"Enter a string: \")\n",
        "perms = permutations(string)\n",
        "print(\"Unique permutations:\")\n",
        "for p in perms:\n",
        "    print(p)"
      ],
      "execution_count": 12,
      "outputs": [
        {
          "output_type": "stream",
          "name": "stdout",
          "text": [
            "Enter a string: 2004\n",
            "Unique permutations:\n",
            "0204\n",
            "2004\n",
            "0402\n",
            "4200\n",
            "2040\n",
            "2400\n",
            "0042\n",
            "0024\n",
            "4002\n",
            "0420\n",
            "4020\n",
            "0240\n"
          ]
        }
      ]
    },
    {
      "cell_type": "markdown",
      "source": [
        "# 11. Create a function that determines whether a string can be rearranged to form a palindrome."
      ],
      "metadata": {
        "id": "natxgyUWirRS"
      }
    },
    {
      "cell_type": "code",
      "metadata": {
        "colab": {
          "base_uri": "https://localhost:8080/"
        },
        "id": "17a6129c",
        "outputId": "28af30ed-1133-4247-bf57-1fc5b3b0d420"
      },
      "source": [
        "def can_form_palindrome(s):\n",
        "    count = {}\n",
        "    for char in s:\n",
        "        if char in count:\n",
        "            count[char] += 1\n",
        "        else:\n",
        "            count[char] = 1\n",
        "    odd_count = 0\n",
        "    for freq in count.values():\n",
        "        if freq % 2 == 1:\n",
        "            odd_count += 1\n",
        "    return odd_count <= 1\n",
        "\n",
        "string = input(\"Enter a string: \")\n",
        "if can_form_palindrome(string):\n",
        "    print(\"Yes, it can form a palindrome.\")\n",
        "else:\n",
        "    print(\"No, it cannot form a palindrome.\")"
      ],
      "execution_count": 15,
      "outputs": [
        {
          "output_type": "stream",
          "name": "stdout",
          "text": [
            "Enter a string: mdama\n",
            "Yes, it can form a palindrome.\n"
          ]
        }
      ]
    },
    {
      "cell_type": "code",
      "source": [],
      "metadata": {
        "id": "rETIfm5MiuV7"
      },
      "execution_count": null,
      "outputs": []
    }
  ]
}